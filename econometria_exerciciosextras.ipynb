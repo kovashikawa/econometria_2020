{
 "cells": [
  {
   "cell_type": "markdown",
   "metadata": {},
   "source": [
    "# Exercícios de Regressão Linear Simples e Múltipla- Econometria 2020\n"
   ]
  },
  {
   "cell_type": "markdown",
   "metadata": {},
   "source": [
    "# Capítulo 2 - Wooldridge \n",
    "### Exércicio Computacional 3\n",
    "\n",
    "Use os dados do arquivo SLEEP75 de Biddle e Hamermesh (1990), para estudar se há uma compensação entre o tempo gasto dormindo por semana e o tempo gasto em um trabalho reumerado. Podemos usar qualquer variável como a variável dependente. Para materializar, estime o modelo: \n",
    "\n",
    "sleep= Bo + B1*totwrk + u \n",
    "\n",
    "em que sleep são os minutos dormidos à noite por semana e a totwrk é o total de minutos trabalhados durante a semana.\n",
    "\n",
    "i) Registre seus resultados em uma equação junto com o número de observações e o R-quadrado. O que o intercepto desta equação significa? \n",
    "\n",
    "ii) Se totwrk aumentar 2 horas, quanto você estima que sleep cairá? Você acha que este é um efeito grande?\n",
    "\n"
   ]
  },
  {
   "cell_type": "markdown",
   "metadata": {},
   "source": [
    "###### Imports..."
   ]
  },
  {
   "cell_type": "code",
   "execution_count": 1,
   "metadata": {},
   "outputs": [],
   "source": [
    "import pandas as pd\n",
    "from sklearn.linear_model import LinearRegression\n",
    "from sklearn import linear_model\n",
    "import statsmodels.api as sm\n"
   ]
  },
  {
   "cell_type": "markdown",
   "metadata": {},
   "source": [
    "###### Carregando os Dados..."
   ]
  },
  {
   "cell_type": "code",
   "execution_count": 2,
   "metadata": {},
   "outputs": [
    {
     "data": {
      "text/plain": [
       "Index(['age', 'black', 'case', 'clerical', 'construc', 'educ', 'earns74',\n",
       "       'gdhlth', 'inlf', 'leis1', 'leis2', 'leis3', 'smsa', 'lhrwage',\n",
       "       'lothinc', 'male', 'marr', 'prot', 'rlxall', 'selfe', 'sleep',\n",
       "       'slpnaps', 'south', 'spsepay', 'spwrk75', 'totwrk', 'union', 'worknrm',\n",
       "       'workscnd', 'exper', 'yngkid', 'yrsmarr', 'hrwage', 'agesq'],\n",
       "      dtype='object')"
      ]
     },
     "execution_count": 2,
     "metadata": {},
     "output_type": "execute_result"
    }
   ],
   "source": [
    "dados=pd.read_stata('sleep75.dta.tga')\n",
    "dados.columns\n"
   ]
  },
  {
   "cell_type": "code",
   "execution_count": 3,
   "metadata": {},
   "outputs": [
    {
     "data": {
      "text/html": [
       "<div>\n",
       "<style scoped>\n",
       "    .dataframe tbody tr th:only-of-type {\n",
       "        vertical-align: middle;\n",
       "    }\n",
       "\n",
       "    .dataframe tbody tr th {\n",
       "        vertical-align: top;\n",
       "    }\n",
       "\n",
       "    .dataframe thead th {\n",
       "        text-align: right;\n",
       "    }\n",
       "</style>\n",
       "<table border=\"1\" class=\"dataframe\">\n",
       "  <thead>\n",
       "    <tr style=\"text-align: right;\">\n",
       "      <th></th>\n",
       "      <th>age</th>\n",
       "      <th>black</th>\n",
       "      <th>case</th>\n",
       "      <th>clerical</th>\n",
       "      <th>construc</th>\n",
       "      <th>educ</th>\n",
       "      <th>earns74</th>\n",
       "      <th>gdhlth</th>\n",
       "      <th>inlf</th>\n",
       "      <th>leis1</th>\n",
       "      <th>...</th>\n",
       "      <th>spwrk75</th>\n",
       "      <th>totwrk</th>\n",
       "      <th>union</th>\n",
       "      <th>worknrm</th>\n",
       "      <th>workscnd</th>\n",
       "      <th>exper</th>\n",
       "      <th>yngkid</th>\n",
       "      <th>yrsmarr</th>\n",
       "      <th>hrwage</th>\n",
       "      <th>agesq</th>\n",
       "    </tr>\n",
       "  </thead>\n",
       "  <tbody>\n",
       "    <tr>\n",
       "      <td>0</td>\n",
       "      <td>32.0</td>\n",
       "      <td>0.0</td>\n",
       "      <td>1.0</td>\n",
       "      <td>0.000000</td>\n",
       "      <td>0.000000</td>\n",
       "      <td>12.0</td>\n",
       "      <td>0.0</td>\n",
       "      <td>0.0</td>\n",
       "      <td>1.0</td>\n",
       "      <td>3529.0</td>\n",
       "      <td>...</td>\n",
       "      <td>0.0</td>\n",
       "      <td>3438.0</td>\n",
       "      <td>0.0</td>\n",
       "      <td>3438.0</td>\n",
       "      <td>0.0</td>\n",
       "      <td>14.0</td>\n",
       "      <td>0.0</td>\n",
       "      <td>13.0</td>\n",
       "      <td>7.070004</td>\n",
       "      <td>1024.0</td>\n",
       "    </tr>\n",
       "    <tr>\n",
       "      <td>1</td>\n",
       "      <td>31.0</td>\n",
       "      <td>0.0</td>\n",
       "      <td>2.0</td>\n",
       "      <td>0.000000</td>\n",
       "      <td>0.000000</td>\n",
       "      <td>14.0</td>\n",
       "      <td>9500.0</td>\n",
       "      <td>1.0</td>\n",
       "      <td>1.0</td>\n",
       "      <td>2140.0</td>\n",
       "      <td>...</td>\n",
       "      <td>0.0</td>\n",
       "      <td>5020.0</td>\n",
       "      <td>0.0</td>\n",
       "      <td>5020.0</td>\n",
       "      <td>0.0</td>\n",
       "      <td>11.0</td>\n",
       "      <td>0.0</td>\n",
       "      <td>0.0</td>\n",
       "      <td>1.429999</td>\n",
       "      <td>961.0</td>\n",
       "    </tr>\n",
       "    <tr>\n",
       "      <td>2</td>\n",
       "      <td>44.0</td>\n",
       "      <td>0.0</td>\n",
       "      <td>3.0</td>\n",
       "      <td>0.000000</td>\n",
       "      <td>0.000000</td>\n",
       "      <td>17.0</td>\n",
       "      <td>42500.0</td>\n",
       "      <td>1.0</td>\n",
       "      <td>1.0</td>\n",
       "      <td>4595.0</td>\n",
       "      <td>...</td>\n",
       "      <td>1.0</td>\n",
       "      <td>2815.0</td>\n",
       "      <td>0.0</td>\n",
       "      <td>2815.0</td>\n",
       "      <td>0.0</td>\n",
       "      <td>21.0</td>\n",
       "      <td>0.0</td>\n",
       "      <td>0.0</td>\n",
       "      <td>20.530001</td>\n",
       "      <td>1936.0</td>\n",
       "    </tr>\n",
       "    <tr>\n",
       "      <td>3</td>\n",
       "      <td>30.0</td>\n",
       "      <td>0.0</td>\n",
       "      <td>4.0</td>\n",
       "      <td>0.000000</td>\n",
       "      <td>0.000000</td>\n",
       "      <td>12.0</td>\n",
       "      <td>42500.0</td>\n",
       "      <td>1.0</td>\n",
       "      <td>1.0</td>\n",
       "      <td>3211.0</td>\n",
       "      <td>...</td>\n",
       "      <td>1.0</td>\n",
       "      <td>3786.0</td>\n",
       "      <td>0.0</td>\n",
       "      <td>3786.0</td>\n",
       "      <td>0.0</td>\n",
       "      <td>12.0</td>\n",
       "      <td>0.0</td>\n",
       "      <td>12.0</td>\n",
       "      <td>9.619998</td>\n",
       "      <td>900.0</td>\n",
       "    </tr>\n",
       "    <tr>\n",
       "      <td>4</td>\n",
       "      <td>64.0</td>\n",
       "      <td>0.0</td>\n",
       "      <td>5.0</td>\n",
       "      <td>0.000000</td>\n",
       "      <td>0.000000</td>\n",
       "      <td>14.0</td>\n",
       "      <td>2500.0</td>\n",
       "      <td>1.0</td>\n",
       "      <td>1.0</td>\n",
       "      <td>4052.0</td>\n",
       "      <td>...</td>\n",
       "      <td>1.0</td>\n",
       "      <td>2580.0</td>\n",
       "      <td>0.0</td>\n",
       "      <td>2580.0</td>\n",
       "      <td>0.0</td>\n",
       "      <td>44.0</td>\n",
       "      <td>0.0</td>\n",
       "      <td>33.0</td>\n",
       "      <td>2.750000</td>\n",
       "      <td>4096.0</td>\n",
       "    </tr>\n",
       "    <tr>\n",
       "      <td>...</td>\n",
       "      <td>...</td>\n",
       "      <td>...</td>\n",
       "      <td>...</td>\n",
       "      <td>...</td>\n",
       "      <td>...</td>\n",
       "      <td>...</td>\n",
       "      <td>...</td>\n",
       "      <td>...</td>\n",
       "      <td>...</td>\n",
       "      <td>...</td>\n",
       "      <td>...</td>\n",
       "      <td>...</td>\n",
       "      <td>...</td>\n",
       "      <td>...</td>\n",
       "      <td>...</td>\n",
       "      <td>...</td>\n",
       "      <td>...</td>\n",
       "      <td>...</td>\n",
       "      <td>...</td>\n",
       "      <td>...</td>\n",
       "      <td>...</td>\n",
       "    </tr>\n",
       "    <tr>\n",
       "      <td>701</td>\n",
       "      <td>45.0</td>\n",
       "      <td>0.0</td>\n",
       "      <td>702.0</td>\n",
       "      <td>0.182331</td>\n",
       "      <td>0.030075</td>\n",
       "      <td>12.0</td>\n",
       "      <td>5500.0</td>\n",
       "      <td>1.0</td>\n",
       "      <td>0.0</td>\n",
       "      <td>5069.0</td>\n",
       "      <td>...</td>\n",
       "      <td>1.0</td>\n",
       "      <td>2026.0</td>\n",
       "      <td>0.0</td>\n",
       "      <td>2026.0</td>\n",
       "      <td>0.0</td>\n",
       "      <td>27.0</td>\n",
       "      <td>0.0</td>\n",
       "      <td>18.0</td>\n",
       "      <td>NaN</td>\n",
       "      <td>2025.0</td>\n",
       "    </tr>\n",
       "    <tr>\n",
       "      <td>702</td>\n",
       "      <td>34.0</td>\n",
       "      <td>0.0</td>\n",
       "      <td>703.0</td>\n",
       "      <td>0.182331</td>\n",
       "      <td>0.030075</td>\n",
       "      <td>10.0</td>\n",
       "      <td>2500.0</td>\n",
       "      <td>0.0</td>\n",
       "      <td>0.0</td>\n",
       "      <td>5885.0</td>\n",
       "      <td>...</td>\n",
       "      <td>0.0</td>\n",
       "      <td>675.0</td>\n",
       "      <td>1.0</td>\n",
       "      <td>465.0</td>\n",
       "      <td>210.0</td>\n",
       "      <td>18.0</td>\n",
       "      <td>0.0</td>\n",
       "      <td>4.0</td>\n",
       "      <td>NaN</td>\n",
       "      <td>1156.0</td>\n",
       "    </tr>\n",
       "    <tr>\n",
       "      <td>703</td>\n",
       "      <td>37.0</td>\n",
       "      <td>0.0</td>\n",
       "      <td>704.0</td>\n",
       "      <td>0.182331</td>\n",
       "      <td>0.030075</td>\n",
       "      <td>12.0</td>\n",
       "      <td>3500.0</td>\n",
       "      <td>1.0</td>\n",
       "      <td>0.0</td>\n",
       "      <td>4719.0</td>\n",
       "      <td>...</td>\n",
       "      <td>1.0</td>\n",
       "      <td>1851.0</td>\n",
       "      <td>0.0</td>\n",
       "      <td>1851.0</td>\n",
       "      <td>0.0</td>\n",
       "      <td>19.0</td>\n",
       "      <td>0.0</td>\n",
       "      <td>17.0</td>\n",
       "      <td>NaN</td>\n",
       "      <td>1369.0</td>\n",
       "    </tr>\n",
       "    <tr>\n",
       "      <td>704</td>\n",
       "      <td>54.0</td>\n",
       "      <td>0.0</td>\n",
       "      <td>705.0</td>\n",
       "      <td>0.182331</td>\n",
       "      <td>0.030075</td>\n",
       "      <td>17.0</td>\n",
       "      <td>32500.0</td>\n",
       "      <td>1.0</td>\n",
       "      <td>0.0</td>\n",
       "      <td>5149.0</td>\n",
       "      <td>...</td>\n",
       "      <td>1.0</td>\n",
       "      <td>1961.0</td>\n",
       "      <td>1.0</td>\n",
       "      <td>1481.0</td>\n",
       "      <td>480.0</td>\n",
       "      <td>31.0</td>\n",
       "      <td>0.0</td>\n",
       "      <td>22.0</td>\n",
       "      <td>NaN</td>\n",
       "      <td>2916.0</td>\n",
       "    </tr>\n",
       "    <tr>\n",
       "      <td>705</td>\n",
       "      <td>30.0</td>\n",
       "      <td>0.0</td>\n",
       "      <td>706.0</td>\n",
       "      <td>0.182331</td>\n",
       "      <td>0.030075</td>\n",
       "      <td>16.0</td>\n",
       "      <td>6750.0</td>\n",
       "      <td>1.0</td>\n",
       "      <td>0.0</td>\n",
       "      <td>4747.0</td>\n",
       "      <td>...</td>\n",
       "      <td>0.0</td>\n",
       "      <td>2363.0</td>\n",
       "      <td>0.0</td>\n",
       "      <td>2363.0</td>\n",
       "      <td>0.0</td>\n",
       "      <td>8.0</td>\n",
       "      <td>1.0</td>\n",
       "      <td>9.0</td>\n",
       "      <td>NaN</td>\n",
       "      <td>900.0</td>\n",
       "    </tr>\n",
       "  </tbody>\n",
       "</table>\n",
       "<p>706 rows × 34 columns</p>\n",
       "</div>"
      ],
      "text/plain": [
       "      age  black   case  clerical  construc  educ  earns74  gdhlth  inlf  \\\n",
       "0    32.0    0.0    1.0  0.000000  0.000000  12.0      0.0     0.0   1.0   \n",
       "1    31.0    0.0    2.0  0.000000  0.000000  14.0   9500.0     1.0   1.0   \n",
       "2    44.0    0.0    3.0  0.000000  0.000000  17.0  42500.0     1.0   1.0   \n",
       "3    30.0    0.0    4.0  0.000000  0.000000  12.0  42500.0     1.0   1.0   \n",
       "4    64.0    0.0    5.0  0.000000  0.000000  14.0   2500.0     1.0   1.0   \n",
       "..    ...    ...    ...       ...       ...   ...      ...     ...   ...   \n",
       "701  45.0    0.0  702.0  0.182331  0.030075  12.0   5500.0     1.0   0.0   \n",
       "702  34.0    0.0  703.0  0.182331  0.030075  10.0   2500.0     0.0   0.0   \n",
       "703  37.0    0.0  704.0  0.182331  0.030075  12.0   3500.0     1.0   0.0   \n",
       "704  54.0    0.0  705.0  0.182331  0.030075  17.0  32500.0     1.0   0.0   \n",
       "705  30.0    0.0  706.0  0.182331  0.030075  16.0   6750.0     1.0   0.0   \n",
       "\n",
       "      leis1  ...  spwrk75  totwrk  union  worknrm  workscnd  exper  yngkid  \\\n",
       "0    3529.0  ...      0.0  3438.0    0.0   3438.0       0.0   14.0     0.0   \n",
       "1    2140.0  ...      0.0  5020.0    0.0   5020.0       0.0   11.0     0.0   \n",
       "2    4595.0  ...      1.0  2815.0    0.0   2815.0       0.0   21.0     0.0   \n",
       "3    3211.0  ...      1.0  3786.0    0.0   3786.0       0.0   12.0     0.0   \n",
       "4    4052.0  ...      1.0  2580.0    0.0   2580.0       0.0   44.0     0.0   \n",
       "..      ...  ...      ...     ...    ...      ...       ...    ...     ...   \n",
       "701  5069.0  ...      1.0  2026.0    0.0   2026.0       0.0   27.0     0.0   \n",
       "702  5885.0  ...      0.0   675.0    1.0    465.0     210.0   18.0     0.0   \n",
       "703  4719.0  ...      1.0  1851.0    0.0   1851.0       0.0   19.0     0.0   \n",
       "704  5149.0  ...      1.0  1961.0    1.0   1481.0     480.0   31.0     0.0   \n",
       "705  4747.0  ...      0.0  2363.0    0.0   2363.0       0.0    8.0     1.0   \n",
       "\n",
       "     yrsmarr     hrwage   agesq  \n",
       "0       13.0   7.070004  1024.0  \n",
       "1        0.0   1.429999   961.0  \n",
       "2        0.0  20.530001  1936.0  \n",
       "3       12.0   9.619998   900.0  \n",
       "4       33.0   2.750000  4096.0  \n",
       "..       ...        ...     ...  \n",
       "701     18.0        NaN  2025.0  \n",
       "702      4.0        NaN  1156.0  \n",
       "703     17.0        NaN  1369.0  \n",
       "704     22.0        NaN  2916.0  \n",
       "705      9.0        NaN   900.0  \n",
       "\n",
       "[706 rows x 34 columns]"
      ]
     },
     "execution_count": 3,
     "metadata": {},
     "output_type": "execute_result"
    }
   ],
   "source": [
    "dados"
   ]
  },
  {
   "cell_type": "markdown",
   "metadata": {},
   "source": [
    "###### Carregando as variáveis para a regressão..."
   ]
  },
  {
   "cell_type": "code",
   "execution_count": 4,
   "metadata": {},
   "outputs": [],
   "source": [
    "y=dados['sleep']\n",
    "X=dados['totwrk']"
   ]
  },
  {
   "cell_type": "markdown",
   "metadata": {},
   "source": [
    "###### Estimando a regressão... "
   ]
  },
  {
   "cell_type": "code",
   "execution_count": 5,
   "metadata": {},
   "outputs": [
    {
     "name": "stderr",
     "output_type": "stream",
     "text": [
      "/opt/anaconda3/lib/python3.7/site-packages/numpy/core/fromnumeric.py:2495: FutureWarning: Method .ptp is deprecated and will be removed in a future version. Use numpy.ptp instead.\n",
      "  return ptp(axis=axis, out=out, **kwargs)\n"
     ]
    },
    {
     "data": {
      "text/html": [
       "<table class=\"simpletable\">\n",
       "<caption>OLS Regression Results</caption>\n",
       "<tr>\n",
       "  <th>Dep. Variable:</th>          <td>sleep</td>      <th>  R-squared:         </th> <td>   0.103</td> \n",
       "</tr>\n",
       "<tr>\n",
       "  <th>Model:</th>                   <td>OLS</td>       <th>  Adj. R-squared:    </th> <td>   0.102</td> \n",
       "</tr>\n",
       "<tr>\n",
       "  <th>Method:</th>             <td>Least Squares</td>  <th>  F-statistic:       </th> <td>   81.09</td> \n",
       "</tr>\n",
       "<tr>\n",
       "  <th>Date:</th>             <td>Wed, 18 Mar 2020</td> <th>  Prob (F-statistic):</th> <td>1.99e-18</td> \n",
       "</tr>\n",
       "<tr>\n",
       "  <th>Time:</th>                 <td>11:42:34</td>     <th>  Log-Likelihood:    </th> <td> -5267.1</td> \n",
       "</tr>\n",
       "<tr>\n",
       "  <th>No. Observations:</th>      <td>   706</td>      <th>  AIC:               </th> <td>1.054e+04</td>\n",
       "</tr>\n",
       "<tr>\n",
       "  <th>Df Residuals:</th>          <td>   704</td>      <th>  BIC:               </th> <td>1.055e+04</td>\n",
       "</tr>\n",
       "<tr>\n",
       "  <th>Df Model:</th>              <td>     1</td>      <th>                     </th>     <td> </td>    \n",
       "</tr>\n",
       "<tr>\n",
       "  <th>Covariance Type:</th>      <td>nonrobust</td>    <th>                     </th>     <td> </td>    \n",
       "</tr>\n",
       "</table>\n",
       "<table class=\"simpletable\">\n",
       "<tr>\n",
       "     <td></td>       <th>coef</th>     <th>std err</th>      <th>t</th>      <th>P>|t|</th>  <th>[0.025</th>    <th>0.975]</th>  \n",
       "</tr>\n",
       "<tr>\n",
       "  <th>const</th>  <td> 3586.3770</td> <td>   38.912</td> <td>   92.165</td> <td> 0.000</td> <td> 3509.979</td> <td> 3662.775</td>\n",
       "</tr>\n",
       "<tr>\n",
       "  <th>totwrk</th> <td>   -0.1507</td> <td>    0.017</td> <td>   -9.005</td> <td> 0.000</td> <td>   -0.184</td> <td>   -0.118</td>\n",
       "</tr>\n",
       "</table>\n",
       "<table class=\"simpletable\">\n",
       "<tr>\n",
       "  <th>Omnibus:</th>       <td>68.651</td> <th>  Durbin-Watson:     </th> <td>   1.955</td>\n",
       "</tr>\n",
       "<tr>\n",
       "  <th>Prob(Omnibus):</th> <td> 0.000</td> <th>  Jarque-Bera (JB):  </th> <td> 192.044</td>\n",
       "</tr>\n",
       "<tr>\n",
       "  <th>Skew:</th>          <td>-0.483</td> <th>  Prob(JB):          </th> <td>1.99e-42</td>\n",
       "</tr>\n",
       "<tr>\n",
       "  <th>Kurtosis:</th>      <td> 5.365</td> <th>  Cond. No.          </th> <td>5.71e+03</td>\n",
       "</tr>\n",
       "</table><br/><br/>Warnings:<br/>[1] Standard Errors assume that the covariance matrix of the errors is correctly specified.<br/>[2] The condition number is large, 5.71e+03. This might indicate that there are<br/>strong multicollinearity or other numerical problems."
      ],
      "text/plain": [
       "<class 'statsmodels.iolib.summary.Summary'>\n",
       "\"\"\"\n",
       "                            OLS Regression Results                            \n",
       "==============================================================================\n",
       "Dep. Variable:                  sleep   R-squared:                       0.103\n",
       "Model:                            OLS   Adj. R-squared:                  0.102\n",
       "Method:                 Least Squares   F-statistic:                     81.09\n",
       "Date:                Wed, 18 Mar 2020   Prob (F-statistic):           1.99e-18\n",
       "Time:                        11:42:34   Log-Likelihood:                -5267.1\n",
       "No. Observations:                 706   AIC:                         1.054e+04\n",
       "Df Residuals:                     704   BIC:                         1.055e+04\n",
       "Df Model:                           1                                         \n",
       "Covariance Type:            nonrobust                                         \n",
       "==============================================================================\n",
       "                 coef    std err          t      P>|t|      [0.025      0.975]\n",
       "------------------------------------------------------------------------------\n",
       "const       3586.3770     38.912     92.165      0.000    3509.979    3662.775\n",
       "totwrk        -0.1507      0.017     -9.005      0.000      -0.184      -0.118\n",
       "==============================================================================\n",
       "Omnibus:                       68.651   Durbin-Watson:                   1.955\n",
       "Prob(Omnibus):                  0.000   Jarque-Bera (JB):              192.044\n",
       "Skew:                          -0.483   Prob(JB):                     1.99e-42\n",
       "Kurtosis:                       5.365   Cond. No.                     5.71e+03\n",
       "==============================================================================\n",
       "\n",
       "Warnings:\n",
       "[1] Standard Errors assume that the covariance matrix of the errors is correctly specified.\n",
       "[2] The condition number is large, 5.71e+03. This might indicate that there are\n",
       "strong multicollinearity or other numerical problems.\n",
       "\"\"\""
      ]
     },
     "execution_count": 5,
     "metadata": {},
     "output_type": "execute_result"
    }
   ],
   "source": [
    "# é necessário adicionar uma constante a matriz X\n",
    "X_sm = sm.add_constant(X)\n",
    "# OLS vem de Ordinary Least Squares e o método fit irá treinar o modelo\n",
    "results = sm.OLS(y, X_sm).fit()\n",
    "# mostrando as estatísticas do modelo\n",
    "results.summary()\n",
    "# mostrando as previsões para o mesmo conjunto passado\n",
    "results.predict(X_sm)\n",
    "results.summary()"
   ]
  },
  {
   "cell_type": "markdown",
   "metadata": {},
   "source": [
    "### item i)"
   ]
  },
  {
   "cell_type": "code",
   "execution_count": 6,
   "metadata": {},
   "outputs": [
    {
     "data": {
      "text/plain": [
       "8.538095238095238"
      ]
     },
     "execution_count": 6,
     "metadata": {},
     "output_type": "execute_result"
    }
   ],
   "source": [
    "3586/420"
   ]
  },
  {
   "cell_type": "code",
   "execution_count": 7,
   "metadata": {},
   "outputs": [
    {
     "name": "stdout",
     "output_type": "stream",
     "text": [
      "A equação é estimada é dada por: sleep = 3586.3370 -0.1507*totwrk\n",
      "R-quadrado:0.103\n",
      "Amostra: 706 observações\n",
      "Podemos interpretar o intercepto como: um indivíduo que não trabalha dorme 3586 minutos por semana, isto é aproximadamente 8,5 horas por noite\n"
     ]
    }
   ],
   "source": [
    "print('A equação é estimada é dada por: sleep = 3586.3370 -0.1507*totwrk')\n",
    "print('R-quadrado:0.103')\n",
    "print('Amostra: 706 observações')\n",
    "\n",
    "print('Podemos interpretar o intercepto como: um indivíduo que não trabalha dorme 3586 minutos por semana, isto é aproximadamente 8,5 horas por noite')"
   ]
  },
  {
   "cell_type": "markdown",
   "metadata": {},
   "source": [
    "### item ii)"
   ]
  },
  {
   "cell_type": "code",
   "execution_count": 8,
   "metadata": {},
   "outputs": [
    {
     "name": "stdout",
     "output_type": "stream",
     "text": [
      "Estimo que o indivíduo dormirá 18.084 minutos a menos\n"
     ]
    }
   ],
   "source": [
    "minutos_totais=60*2\n",
    "variacao_sleep= 0.1507*minutos_totais\n",
    "print('Estimo que o indivíduo dormirá '+ str(variacao_sleep) + ' minutos a menos')"
   ]
  },
  {
   "cell_type": "markdown",
   "metadata": {},
   "source": [
    "# Capítulo 2 - Wooldridge \n",
    "### Exércicio Computacional 6\n",
    "\n",
    "Usamos os dados do arquivo  MEAP93 no exemplo 2.12. Agora, queremos explorar a relação entre a taxa de aprovação em matemática (math10) e os gastos por estudante (expend)\n",
    "\n",
    "i) Você acha que cada dólar adicional gasto tem o mesmo efeito sobre a taxa de aprovação ou um efeito decrescente seria mais razoável? Explique.\n",
    "\n",
    "ii) No modelo populacional \n",
    "\n",
    "math10=Bo + B1*log(expend) + u argumente que B1/10 é a porcentagem de alteração em math10 dado um aumento de 10% em gasto. \n",
    "\n",
    "iii) Use os dados do arquivo MEAP93 para estimar o modelo ii. Descreva a equação estimada da forma usual, incluindo o tamanho da amostra e o R-quadrado.\n",
    "\n",
    "iv) Quão grande é o efeito de gastos estimado? Em outras palavras, se os gastos aumentarem 10%, qual será o aumento percentual estimado em math10? \n",
    "\n",
    "v) Alguns podem se preocupar com o fato de que a análise de regressão pode produzir valores ajustados para math10 maiores do que 100. Por que isso não é tão preocupante neste conjunto de dados?\n",
    "\n",
    "\n"
   ]
  },
  {
   "cell_type": "markdown",
   "metadata": {},
   "source": [
    "#### Carregando os dados..."
   ]
  },
  {
   "cell_type": "code",
   "execution_count": 9,
   "metadata": {
    "scrolled": true
   },
   "outputs": [
    {
     "data": {
      "text/html": [
       "<div>\n",
       "<style scoped>\n",
       "    .dataframe tbody tr th:only-of-type {\n",
       "        vertical-align: middle;\n",
       "    }\n",
       "\n",
       "    .dataframe tbody tr th {\n",
       "        vertical-align: top;\n",
       "    }\n",
       "\n",
       "    .dataframe thead th {\n",
       "        text-align: right;\n",
       "    }\n",
       "</style>\n",
       "<table border=\"1\" class=\"dataframe\">\n",
       "  <thead>\n",
       "    <tr style=\"text-align: right;\">\n",
       "      <th></th>\n",
       "      <th>lnchprg</th>\n",
       "      <th>enroll</th>\n",
       "      <th>staff</th>\n",
       "      <th>expend</th>\n",
       "      <th>salary</th>\n",
       "      <th>benefits</th>\n",
       "      <th>droprate</th>\n",
       "      <th>gradrate</th>\n",
       "      <th>math10</th>\n",
       "      <th>sci11</th>\n",
       "      <th>totcomp</th>\n",
       "      <th>ltotcomp</th>\n",
       "      <th>lexpend</th>\n",
       "      <th>lenroll</th>\n",
       "      <th>lstaff</th>\n",
       "      <th>bensal</th>\n",
       "      <th>lsalary</th>\n",
       "    </tr>\n",
       "  </thead>\n",
       "  <tbody>\n",
       "    <tr>\n",
       "      <td>0</td>\n",
       "      <td>1.400000</td>\n",
       "      <td>1862.0</td>\n",
       "      <td>112.599998</td>\n",
       "      <td>5765.0</td>\n",
       "      <td>37498.0</td>\n",
       "      <td>7420.0</td>\n",
       "      <td>2.900000</td>\n",
       "      <td>89.199997</td>\n",
       "      <td>56.400002</td>\n",
       "      <td>67.900002</td>\n",
       "      <td>44918.0</td>\n",
       "      <td>10.71259</td>\n",
       "      <td>8.659560</td>\n",
       "      <td>7.529407</td>\n",
       "      <td>4.723842</td>\n",
       "      <td>0.197877</td>\n",
       "      <td>10.53204</td>\n",
       "    </tr>\n",
       "    <tr>\n",
       "      <td>1</td>\n",
       "      <td>2.300000</td>\n",
       "      <td>11355.0</td>\n",
       "      <td>101.199997</td>\n",
       "      <td>6601.0</td>\n",
       "      <td>48722.0</td>\n",
       "      <td>10370.0</td>\n",
       "      <td>1.300000</td>\n",
       "      <td>91.400002</td>\n",
       "      <td>42.700001</td>\n",
       "      <td>65.300003</td>\n",
       "      <td>59092.0</td>\n",
       "      <td>10.98685</td>\n",
       "      <td>8.794976</td>\n",
       "      <td>9.337414</td>\n",
       "      <td>4.617099</td>\n",
       "      <td>0.212840</td>\n",
       "      <td>10.79389</td>\n",
       "    </tr>\n",
       "    <tr>\n",
       "      <td>2</td>\n",
       "      <td>2.700000</td>\n",
       "      <td>7685.0</td>\n",
       "      <td>114.000000</td>\n",
       "      <td>6834.0</td>\n",
       "      <td>44541.0</td>\n",
       "      <td>7313.0</td>\n",
       "      <td>3.500000</td>\n",
       "      <td>91.400002</td>\n",
       "      <td>43.799999</td>\n",
       "      <td>54.299999</td>\n",
       "      <td>51854.0</td>\n",
       "      <td>10.85619</td>\n",
       "      <td>8.829665</td>\n",
       "      <td>8.947025</td>\n",
       "      <td>4.736198</td>\n",
       "      <td>0.164186</td>\n",
       "      <td>10.70417</td>\n",
       "    </tr>\n",
       "    <tr>\n",
       "      <td>3</td>\n",
       "      <td>3.400000</td>\n",
       "      <td>1148.0</td>\n",
       "      <td>85.400002</td>\n",
       "      <td>3586.0</td>\n",
       "      <td>31566.0</td>\n",
       "      <td>5989.0</td>\n",
       "      <td>3.600000</td>\n",
       "      <td>86.599998</td>\n",
       "      <td>25.299999</td>\n",
       "      <td>60.000000</td>\n",
       "      <td>37555.0</td>\n",
       "      <td>10.53356</td>\n",
       "      <td>8.184793</td>\n",
       "      <td>7.045776</td>\n",
       "      <td>4.447346</td>\n",
       "      <td>0.189729</td>\n",
       "      <td>10.35984</td>\n",
       "    </tr>\n",
       "    <tr>\n",
       "      <td>4</td>\n",
       "      <td>3.400000</td>\n",
       "      <td>1572.0</td>\n",
       "      <td>96.099998</td>\n",
       "      <td>3847.0</td>\n",
       "      <td>29781.0</td>\n",
       "      <td>5545.0</td>\n",
       "      <td>0.000000</td>\n",
       "      <td>100.000000</td>\n",
       "      <td>15.300000</td>\n",
       "      <td>65.800003</td>\n",
       "      <td>35326.0</td>\n",
       "      <td>10.47237</td>\n",
       "      <td>8.255049</td>\n",
       "      <td>7.360104</td>\n",
       "      <td>4.565389</td>\n",
       "      <td>0.186192</td>\n",
       "      <td>10.30163</td>\n",
       "    </tr>\n",
       "    <tr>\n",
       "      <td>...</td>\n",
       "      <td>...</td>\n",
       "      <td>...</td>\n",
       "      <td>...</td>\n",
       "      <td>...</td>\n",
       "      <td>...</td>\n",
       "      <td>...</td>\n",
       "      <td>...</td>\n",
       "      <td>...</td>\n",
       "      <td>...</td>\n",
       "      <td>...</td>\n",
       "      <td>...</td>\n",
       "      <td>...</td>\n",
       "      <td>...</td>\n",
       "      <td>...</td>\n",
       "      <td>...</td>\n",
       "      <td>...</td>\n",
       "      <td>...</td>\n",
       "    </tr>\n",
       "    <tr>\n",
       "      <td>403</td>\n",
       "      <td>60.900002</td>\n",
       "      <td>1689.0</td>\n",
       "      <td>78.400002</td>\n",
       "      <td>5380.0</td>\n",
       "      <td>41856.0</td>\n",
       "      <td>9468.0</td>\n",
       "      <td>35.799999</td>\n",
       "      <td>23.500000</td>\n",
       "      <td>7.000000</td>\n",
       "      <td>11.200000</td>\n",
       "      <td>51324.0</td>\n",
       "      <td>10.84591</td>\n",
       "      <td>8.590444</td>\n",
       "      <td>7.431892</td>\n",
       "      <td>4.361824</td>\n",
       "      <td>0.226204</td>\n",
       "      <td>10.64199</td>\n",
       "    </tr>\n",
       "    <tr>\n",
       "      <td>404</td>\n",
       "      <td>61.099998</td>\n",
       "      <td>2631.0</td>\n",
       "      <td>100.699997</td>\n",
       "      <td>5088.0</td>\n",
       "      <td>35020.0</td>\n",
       "      <td>7655.0</td>\n",
       "      <td>17.500000</td>\n",
       "      <td>61.099998</td>\n",
       "      <td>8.100000</td>\n",
       "      <td>22.700001</td>\n",
       "      <td>42675.0</td>\n",
       "      <td>10.66137</td>\n",
       "      <td>8.534640</td>\n",
       "      <td>7.875119</td>\n",
       "      <td>4.612146</td>\n",
       "      <td>0.218589</td>\n",
       "      <td>10.46367</td>\n",
       "    </tr>\n",
       "    <tr>\n",
       "      <td>405</td>\n",
       "      <td>73.800003</td>\n",
       "      <td>4024.0</td>\n",
       "      <td>85.199997</td>\n",
       "      <td>3942.0</td>\n",
       "      <td>32678.0</td>\n",
       "      <td>6220.0</td>\n",
       "      <td>8.700000</td>\n",
       "      <td>83.300003</td>\n",
       "      <td>11.500000</td>\n",
       "      <td>26.799999</td>\n",
       "      <td>38898.0</td>\n",
       "      <td>10.56870</td>\n",
       "      <td>8.279444</td>\n",
       "      <td>8.300032</td>\n",
       "      <td>4.445002</td>\n",
       "      <td>0.190342</td>\n",
       "      <td>10.39446</td>\n",
       "    </tr>\n",
       "    <tr>\n",
       "      <td>406</td>\n",
       "      <td>74.400002</td>\n",
       "      <td>850.0</td>\n",
       "      <td>122.400002</td>\n",
       "      <td>5029.0</td>\n",
       "      <td>29210.0</td>\n",
       "      <td>6513.0</td>\n",
       "      <td>1.600000</td>\n",
       "      <td>91.900002</td>\n",
       "      <td>9.500000</td>\n",
       "      <td>9.700000</td>\n",
       "      <td>35723.0</td>\n",
       "      <td>10.48355</td>\n",
       "      <td>8.522977</td>\n",
       "      <td>6.745236</td>\n",
       "      <td>4.807294</td>\n",
       "      <td>0.222972</td>\n",
       "      <td>10.28227</td>\n",
       "    </tr>\n",
       "    <tr>\n",
       "      <td>407</td>\n",
       "      <td>79.500000</td>\n",
       "      <td>7585.0</td>\n",
       "      <td>93.300003</td>\n",
       "      <td>4529.0</td>\n",
       "      <td>33645.0</td>\n",
       "      <td>7682.0</td>\n",
       "      <td>22.000000</td>\n",
       "      <td>40.599998</td>\n",
       "      <td>2.700000</td>\n",
       "      <td>7.200000</td>\n",
       "      <td>41327.0</td>\n",
       "      <td>10.62927</td>\n",
       "      <td>8.418257</td>\n",
       "      <td>8.933928</td>\n",
       "      <td>4.535820</td>\n",
       "      <td>0.228325</td>\n",
       "      <td>10.42362</td>\n",
       "    </tr>\n",
       "  </tbody>\n",
       "</table>\n",
       "<p>408 rows × 17 columns</p>\n",
       "</div>"
      ],
      "text/plain": [
       "       lnchprg   enroll       staff  expend   salary  benefits   droprate  \\\n",
       "0     1.400000   1862.0  112.599998  5765.0  37498.0    7420.0   2.900000   \n",
       "1     2.300000  11355.0  101.199997  6601.0  48722.0   10370.0   1.300000   \n",
       "2     2.700000   7685.0  114.000000  6834.0  44541.0    7313.0   3.500000   \n",
       "3     3.400000   1148.0   85.400002  3586.0  31566.0    5989.0   3.600000   \n",
       "4     3.400000   1572.0   96.099998  3847.0  29781.0    5545.0   0.000000   \n",
       "..         ...      ...         ...     ...      ...       ...        ...   \n",
       "403  60.900002   1689.0   78.400002  5380.0  41856.0    9468.0  35.799999   \n",
       "404  61.099998   2631.0  100.699997  5088.0  35020.0    7655.0  17.500000   \n",
       "405  73.800003   4024.0   85.199997  3942.0  32678.0    6220.0   8.700000   \n",
       "406  74.400002    850.0  122.400002  5029.0  29210.0    6513.0   1.600000   \n",
       "407  79.500000   7585.0   93.300003  4529.0  33645.0    7682.0  22.000000   \n",
       "\n",
       "       gradrate     math10      sci11  totcomp  ltotcomp   lexpend   lenroll  \\\n",
       "0     89.199997  56.400002  67.900002  44918.0  10.71259  8.659560  7.529407   \n",
       "1     91.400002  42.700001  65.300003  59092.0  10.98685  8.794976  9.337414   \n",
       "2     91.400002  43.799999  54.299999  51854.0  10.85619  8.829665  8.947025   \n",
       "3     86.599998  25.299999  60.000000  37555.0  10.53356  8.184793  7.045776   \n",
       "4    100.000000  15.300000  65.800003  35326.0  10.47237  8.255049  7.360104   \n",
       "..          ...        ...        ...      ...       ...       ...       ...   \n",
       "403   23.500000   7.000000  11.200000  51324.0  10.84591  8.590444  7.431892   \n",
       "404   61.099998   8.100000  22.700001  42675.0  10.66137  8.534640  7.875119   \n",
       "405   83.300003  11.500000  26.799999  38898.0  10.56870  8.279444  8.300032   \n",
       "406   91.900002   9.500000   9.700000  35723.0  10.48355  8.522977  6.745236   \n",
       "407   40.599998   2.700000   7.200000  41327.0  10.62927  8.418257  8.933928   \n",
       "\n",
       "       lstaff    bensal   lsalary  \n",
       "0    4.723842  0.197877  10.53204  \n",
       "1    4.617099  0.212840  10.79389  \n",
       "2    4.736198  0.164186  10.70417  \n",
       "3    4.447346  0.189729  10.35984  \n",
       "4    4.565389  0.186192  10.30163  \n",
       "..        ...       ...       ...  \n",
       "403  4.361824  0.226204  10.64199  \n",
       "404  4.612146  0.218589  10.46367  \n",
       "405  4.445002  0.190342  10.39446  \n",
       "406  4.807294  0.222972  10.28227  \n",
       "407  4.535820  0.228325  10.42362  \n",
       "\n",
       "[408 rows x 17 columns]"
      ]
     },
     "execution_count": 9,
     "metadata": {},
     "output_type": "execute_result"
    }
   ],
   "source": [
    "dados=pd.read_stata('meap93.dta.tga')\n",
    "dados"
   ]
  },
  {
   "cell_type": "markdown",
   "metadata": {},
   "source": [
    "### i)"
   ]
  },
  {
   "cell_type": "markdown",
   "metadata": {},
   "source": [
    "O efeito de cada dolar adicional gasto é decrescente, uma vez que em escolas com maiores gastos já se espera professores de alta qualidade, bons materiais etc "
   ]
  },
  {
   "cell_type": "markdown",
   "metadata": {},
   "source": [
    "### ii)"
   ]
  },
  {
   "cell_type": "markdown",
   "metadata": {},
   "source": [
    "Δmath10=β1Δlog(expend)≈(β1 /100)(%Δexpend), o que evidencia o pedido. "
   ]
  },
  {
   "cell_type": "markdown",
   "metadata": {},
   "source": [
    "### iii)"
   ]
  },
  {
   "cell_type": "markdown",
   "metadata": {},
   "source": [
    "#### Carregando as variáveis..."
   ]
  },
  {
   "cell_type": "code",
   "execution_count": 10,
   "metadata": {},
   "outputs": [],
   "source": [
    "y=dados['math10']\n",
    "X=dados['lexpend']"
   ]
  },
  {
   "cell_type": "markdown",
   "metadata": {},
   "source": [
    "#### Estimando a regressão..."
   ]
  },
  {
   "cell_type": "code",
   "execution_count": 11,
   "metadata": {
    "scrolled": true
   },
   "outputs": [
    {
     "data": {
      "text/html": [
       "<table class=\"simpletable\">\n",
       "<caption>OLS Regression Results</caption>\n",
       "<tr>\n",
       "  <th>Dep. Variable:</th>         <td>math10</td>      <th>  R-squared:         </th> <td>   0.030</td>\n",
       "</tr>\n",
       "<tr>\n",
       "  <th>Model:</th>                   <td>OLS</td>       <th>  Adj. R-squared:    </th> <td>   0.027</td>\n",
       "</tr>\n",
       "<tr>\n",
       "  <th>Method:</th>             <td>Least Squares</td>  <th>  F-statistic:       </th> <td>   12.41</td>\n",
       "</tr>\n",
       "<tr>\n",
       "  <th>Date:</th>             <td>Wed, 18 Mar 2020</td> <th>  Prob (F-statistic):</th> <td>0.000475</td>\n",
       "</tr>\n",
       "<tr>\n",
       "  <th>Time:</th>                 <td>18:25:03</td>     <th>  Log-Likelihood:    </th> <td> -1531.4</td>\n",
       "</tr>\n",
       "<tr>\n",
       "  <th>No. Observations:</th>      <td>   408</td>      <th>  AIC:               </th> <td>   3067.</td>\n",
       "</tr>\n",
       "<tr>\n",
       "  <th>Df Residuals:</th>          <td>   406</td>      <th>  BIC:               </th> <td>   3075.</td>\n",
       "</tr>\n",
       "<tr>\n",
       "  <th>Df Model:</th>              <td>     1</td>      <th>                     </th>     <td> </td>   \n",
       "</tr>\n",
       "<tr>\n",
       "  <th>Covariance Type:</th>      <td>nonrobust</td>    <th>                     </th>     <td> </td>   \n",
       "</tr>\n",
       "</table>\n",
       "<table class=\"simpletable\">\n",
       "<tr>\n",
       "     <td></td>        <th>coef</th>     <th>std err</th>      <th>t</th>      <th>P>|t|</th>  <th>[0.025</th>    <th>0.975]</th>  \n",
       "</tr>\n",
       "<tr>\n",
       "  <th>const</th>   <td>  -69.3410</td> <td>   26.530</td> <td>   -2.614</td> <td> 0.009</td> <td> -121.495</td> <td>  -17.187</td>\n",
       "</tr>\n",
       "<tr>\n",
       "  <th>lexpend</th> <td>   11.1644</td> <td>    3.169</td> <td>    3.523</td> <td> 0.000</td> <td>    4.935</td> <td>   17.394</td>\n",
       "</tr>\n",
       "</table>\n",
       "<table class=\"simpletable\">\n",
       "<tr>\n",
       "  <th>Omnibus:</th>       <td>28.397</td> <th>  Durbin-Watson:     </th> <td>   1.615</td>\n",
       "</tr>\n",
       "<tr>\n",
       "  <th>Prob(Omnibus):</th> <td> 0.000</td> <th>  Jarque-Bera (JB):  </th> <td>  34.609</td>\n",
       "</tr>\n",
       "<tr>\n",
       "  <th>Skew:</th>          <td> 0.591</td> <th>  Prob(JB):          </th> <td>3.05e-08</td>\n",
       "</tr>\n",
       "<tr>\n",
       "  <th>Kurtosis:</th>      <td> 3.800</td> <th>  Cond. No.          </th> <td>    440.</td>\n",
       "</tr>\n",
       "</table><br/><br/>Warnings:<br/>[1] Standard Errors assume that the covariance matrix of the errors is correctly specified."
      ],
      "text/plain": [
       "<class 'statsmodels.iolib.summary.Summary'>\n",
       "\"\"\"\n",
       "                            OLS Regression Results                            \n",
       "==============================================================================\n",
       "Dep. Variable:                 math10   R-squared:                       0.030\n",
       "Model:                            OLS   Adj. R-squared:                  0.027\n",
       "Method:                 Least Squares   F-statistic:                     12.41\n",
       "Date:                Wed, 18 Mar 2020   Prob (F-statistic):           0.000475\n",
       "Time:                        18:25:03   Log-Likelihood:                -1531.4\n",
       "No. Observations:                 408   AIC:                             3067.\n",
       "Df Residuals:                     406   BIC:                             3075.\n",
       "Df Model:                           1                                         \n",
       "Covariance Type:            nonrobust                                         \n",
       "==============================================================================\n",
       "                 coef    std err          t      P>|t|      [0.025      0.975]\n",
       "------------------------------------------------------------------------------\n",
       "const        -69.3410     26.530     -2.614      0.009    -121.495     -17.187\n",
       "lexpend       11.1644      3.169      3.523      0.000       4.935      17.394\n",
       "==============================================================================\n",
       "Omnibus:                       28.397   Durbin-Watson:                   1.615\n",
       "Prob(Omnibus):                  0.000   Jarque-Bera (JB):               34.609\n",
       "Skew:                           0.591   Prob(JB):                     3.05e-08\n",
       "Kurtosis:                       3.800   Cond. No.                         440.\n",
       "==============================================================================\n",
       "\n",
       "Warnings:\n",
       "[1] Standard Errors assume that the covariance matrix of the errors is correctly specified.\n",
       "\"\"\""
      ]
     },
     "execution_count": 11,
     "metadata": {},
     "output_type": "execute_result"
    }
   ],
   "source": [
    "# é necessário adicionar uma constante a matriz X\n",
    "X_sm = sm.add_constant(X)\n",
    "# OLS vem de Ordinary Least Squares e o método fit irá treinar o modelo\n",
    "results = sm.OLS(y, X_sm).fit()\n",
    "# mostrando as estatísticas do modelo\n",
    "results.summary()\n",
    "# mostrando as previsões para o mesmo conjunto passado\n",
    "results.predict(X_sm)\n",
    "results.summary()"
   ]
  },
  {
   "cell_type": "code",
   "execution_count": 14,
   "metadata": {
    "scrolled": true
   },
   "outputs": [
    {
     "name": "stdout",
     "output_type": "stream",
     "text": [
      "-69.3410 + 11.1644(lexpend)\n",
      "N=408; R-quadrado=0.030\n"
     ]
    }
   ],
   "source": [
    "print('-69.3410 + 11.1644(lexpend)')\n",
    "print('N=408; R-quadrado=0.030')"
   ]
  },
  {
   "cell_type": "markdown",
   "metadata": {},
   "source": [
    "### iv)"
   ]
  },
  {
   "cell_type": "markdown",
   "metadata": {},
   "source": [
    "Se os gastos aumentarem 10%, math10 aumenta 1.1% em sua pontuação"
   ]
  },
  {
   "cell_type": "markdown",
   "metadata": {},
   "source": [
    "### v)"
   ]
  },
  {
   "cell_type": "markdown",
   "metadata": {},
   "source": [
    "#### Ordenando as variáveis do DataFrame a partir da coluna 'math10' com o uso da função sort_values "
   ]
  },
  {
   "cell_type": "code",
   "execution_count": 16,
   "metadata": {},
   "outputs": [
    {
     "data": {
      "text/html": [
       "<div>\n",
       "<style scoped>\n",
       "    .dataframe tbody tr th:only-of-type {\n",
       "        vertical-align: middle;\n",
       "    }\n",
       "\n",
       "    .dataframe tbody tr th {\n",
       "        vertical-align: top;\n",
       "    }\n",
       "\n",
       "    .dataframe thead th {\n",
       "        text-align: right;\n",
       "    }\n",
       "</style>\n",
       "<table border=\"1\" class=\"dataframe\">\n",
       "  <thead>\n",
       "    <tr style=\"text-align: right;\">\n",
       "      <th></th>\n",
       "      <th>index</th>\n",
       "      <th>lnchprg</th>\n",
       "      <th>enroll</th>\n",
       "      <th>staff</th>\n",
       "      <th>expend</th>\n",
       "      <th>salary</th>\n",
       "      <th>benefits</th>\n",
       "      <th>droprate</th>\n",
       "      <th>gradrate</th>\n",
       "      <th>math10</th>\n",
       "      <th>sci11</th>\n",
       "      <th>totcomp</th>\n",
       "      <th>ltotcomp</th>\n",
       "      <th>lexpend</th>\n",
       "      <th>lenroll</th>\n",
       "      <th>lstaff</th>\n",
       "      <th>bensal</th>\n",
       "      <th>lsalary</th>\n",
       "    </tr>\n",
       "  </thead>\n",
       "  <tbody>\n",
       "    <tr>\n",
       "      <td>0</td>\n",
       "      <td>320</td>\n",
       "      <td>35.400002</td>\n",
       "      <td>226.0</td>\n",
       "      <td>162.800003</td>\n",
       "      <td>6444.0</td>\n",
       "      <td>26653.0</td>\n",
       "      <td>8191.0</td>\n",
       "      <td>0.0</td>\n",
       "      <td>100.000000</td>\n",
       "      <td>66.699997</td>\n",
       "      <td>64.900002</td>\n",
       "      <td>34844.0</td>\n",
       "      <td>10.45864</td>\n",
       "      <td>8.770905</td>\n",
       "      <td>5.420535</td>\n",
       "      <td>5.092523</td>\n",
       "      <td>0.307320</td>\n",
       "      <td>10.19066</td>\n",
       "    </tr>\n",
       "    <tr>\n",
       "      <td>1</td>\n",
       "      <td>24</td>\n",
       "      <td>6.900000</td>\n",
       "      <td>2119.0</td>\n",
       "      <td>89.199997</td>\n",
       "      <td>4018.0</td>\n",
       "      <td>33345.0</td>\n",
       "      <td>6373.0</td>\n",
       "      <td>3.1</td>\n",
       "      <td>87.199997</td>\n",
       "      <td>62.400002</td>\n",
       "      <td>66.699997</td>\n",
       "      <td>39718.0</td>\n",
       "      <td>10.58956</td>\n",
       "      <td>8.298539</td>\n",
       "      <td>7.658700</td>\n",
       "      <td>4.490881</td>\n",
       "      <td>0.191123</td>\n",
       "      <td>10.41466</td>\n",
       "    </tr>\n",
       "    <tr>\n",
       "      <td>2</td>\n",
       "      <td>235</td>\n",
       "      <td>27.200001</td>\n",
       "      <td>1234.0</td>\n",
       "      <td>90.300003</td>\n",
       "      <td>3808.0</td>\n",
       "      <td>30639.0</td>\n",
       "      <td>6148.0</td>\n",
       "      <td>0.5</td>\n",
       "      <td>97.699997</td>\n",
       "      <td>60.599998</td>\n",
       "      <td>41.200001</td>\n",
       "      <td>36787.0</td>\n",
       "      <td>10.51290</td>\n",
       "      <td>8.244860</td>\n",
       "      <td>7.118016</td>\n",
       "      <td>4.503138</td>\n",
       "      <td>0.200659</td>\n",
       "      <td>10.33003</td>\n",
       "    </tr>\n",
       "    <tr>\n",
       "      <td>3</td>\n",
       "      <td>0</td>\n",
       "      <td>1.400000</td>\n",
       "      <td>1862.0</td>\n",
       "      <td>112.599998</td>\n",
       "      <td>5765.0</td>\n",
       "      <td>37498.0</td>\n",
       "      <td>7420.0</td>\n",
       "      <td>2.9</td>\n",
       "      <td>89.199997</td>\n",
       "      <td>56.400002</td>\n",
       "      <td>67.900002</td>\n",
       "      <td>44918.0</td>\n",
       "      <td>10.71259</td>\n",
       "      <td>8.659560</td>\n",
       "      <td>7.529407</td>\n",
       "      <td>4.723842</td>\n",
       "      <td>0.197877</td>\n",
       "      <td>10.53204</td>\n",
       "    </tr>\n",
       "    <tr>\n",
       "      <td>4</td>\n",
       "      <td>23</td>\n",
       "      <td>6.800000</td>\n",
       "      <td>650.0</td>\n",
       "      <td>97.599998</td>\n",
       "      <td>4403.0</td>\n",
       "      <td>34194.0</td>\n",
       "      <td>6833.0</td>\n",
       "      <td>0.0</td>\n",
       "      <td>100.000000</td>\n",
       "      <td>54.799999</td>\n",
       "      <td>72.800003</td>\n",
       "      <td>41027.0</td>\n",
       "      <td>10.62199</td>\n",
       "      <td>8.390041</td>\n",
       "      <td>6.476973</td>\n",
       "      <td>4.580877</td>\n",
       "      <td>0.199830</td>\n",
       "      <td>10.43981</td>\n",
       "    </tr>\n",
       "    <tr>\n",
       "      <td>5</td>\n",
       "      <td>142</td>\n",
       "      <td>18.400000</td>\n",
       "      <td>222.0</td>\n",
       "      <td>122.500000</td>\n",
       "      <td>5365.0</td>\n",
       "      <td>32249.0</td>\n",
       "      <td>6275.0</td>\n",
       "      <td>11.3</td>\n",
       "      <td>61.000000</td>\n",
       "      <td>53.799999</td>\n",
       "      <td>39.599998</td>\n",
       "      <td>38524.0</td>\n",
       "      <td>10.55904</td>\n",
       "      <td>8.587651</td>\n",
       "      <td>5.402678</td>\n",
       "      <td>4.808111</td>\n",
       "      <td>0.194580</td>\n",
       "      <td>10.38124</td>\n",
       "    </tr>\n",
       "  </tbody>\n",
       "</table>\n",
       "</div>"
      ],
      "text/plain": [
       "   index    lnchprg  enroll       staff  expend   salary  benefits  droprate  \\\n",
       "0    320  35.400002   226.0  162.800003  6444.0  26653.0    8191.0       0.0   \n",
       "1     24   6.900000  2119.0   89.199997  4018.0  33345.0    6373.0       3.1   \n",
       "2    235  27.200001  1234.0   90.300003  3808.0  30639.0    6148.0       0.5   \n",
       "3      0   1.400000  1862.0  112.599998  5765.0  37498.0    7420.0       2.9   \n",
       "4     23   6.800000   650.0   97.599998  4403.0  34194.0    6833.0       0.0   \n",
       "5    142  18.400000   222.0  122.500000  5365.0  32249.0    6275.0      11.3   \n",
       "\n",
       "     gradrate     math10      sci11  totcomp  ltotcomp   lexpend   lenroll  \\\n",
       "0  100.000000  66.699997  64.900002  34844.0  10.45864  8.770905  5.420535   \n",
       "1   87.199997  62.400002  66.699997  39718.0  10.58956  8.298539  7.658700   \n",
       "2   97.699997  60.599998  41.200001  36787.0  10.51290  8.244860  7.118016   \n",
       "3   89.199997  56.400002  67.900002  44918.0  10.71259  8.659560  7.529407   \n",
       "4  100.000000  54.799999  72.800003  41027.0  10.62199  8.390041  6.476973   \n",
       "5   61.000000  53.799999  39.599998  38524.0  10.55904  8.587651  5.402678   \n",
       "\n",
       "     lstaff    bensal   lsalary  \n",
       "0  5.092523  0.307320  10.19066  \n",
       "1  4.490881  0.191123  10.41466  \n",
       "2  4.503138  0.200659  10.33003  \n",
       "3  4.723842  0.197877  10.53204  \n",
       "4  4.580877  0.199830  10.43981  \n",
       "5  4.808111  0.194580  10.38124  "
      ]
     },
     "execution_count": 16,
     "metadata": {},
     "output_type": "execute_result"
    }
   ],
   "source": [
    "ordenacao=dados.sort_values(by='math10',ascending=False).reset_index()\n",
    "ordenacao[0:6]"
   ]
  },
  {
   "cell_type": "markdown",
   "metadata": {},
   "source": [
    "Note que o maior valor de math10 não atinge 67 o que é distante de 100."
   ]
  },
  {
   "cell_type": "markdown",
   "metadata": {},
   "source": [
    "# Capítulo 3 - Wooldridge \n",
    "### Exércicio Computacional 7\n",
    "\n",
    "Use os dados do arquivo MEAP93 para responder a essa questão.\n",
    "\n",
    "i) Estime o modelo \n",
    "\n",
    "math10=Bo + B1*log(expend) + B2*lnchprg + u e registre os resultados na forma usual, incluindo o tamanho da amostra e o R-quadrado. Os sinais do coeficiente de inclinação são os que você esperava? Explique.\n",
    "\n",
    "ii) Como você interpreta o intercepto que estimou no item (i)? Em especial, faz sentido definir duas variáveis explicativas como zero? [Lembre-se que log(1)=0]. \n",
    "\n",
    "iii) Agora faça a regressão simples de math sobre log(expend) e compare o coeficiente de inclinação com aquele obtido no item (i). O efeito de gastos estimado agora é maior ou menor do que no item i)?\n",
    "\n",
    "iv) Encontre a correlação entre lexpend=log(expend) e lnchprg. O sinal da relação faz sentido para você? \n",
    "\n",
    "v) Use o item iv) para explicar suas descobertas no item (iii). "
   ]
  },
  {
   "cell_type": "markdown",
   "metadata": {},
   "source": [
    "### item i)"
   ]
  },
  {
   "cell_type": "markdown",
   "metadata": {},
   "source": [
    "Note que este exercício usa a mesma base de dados do exercício anterior, portanto não atualizaremos a base de dados. "
   ]
  },
  {
   "cell_type": "markdown",
   "metadata": {},
   "source": [
    "#### Carregando as variáveis e estimando a regressão..."
   ]
  },
  {
   "cell_type": "code",
   "execution_count": 17,
   "metadata": {
    "scrolled": true
   },
   "outputs": [
    {
     "name": "stdout",
     "output_type": "stream",
     "text": [
      "Intercept: \n",
      " -20.360691\n",
      "Coefficients: \n",
      " [ 6.2296824  -0.30458528]\n",
      "                            OLS Regression Results                            \n",
      "==============================================================================\n",
      "Dep. Variable:                 math10   R-squared:                       0.180\n",
      "Model:                            OLS   Adj. R-squared:                  0.176\n",
      "Method:                 Least Squares   F-statistic:                     44.43\n",
      "Date:                Wed, 18 Mar 2020   Prob (F-statistic):           3.59e-18\n",
      "Time:                        18:38:36   Log-Likelihood:                -1497.1\n",
      "No. Observations:                 408   AIC:                             3000.\n",
      "Df Residuals:                     405   BIC:                             3012.\n",
      "Df Model:                           2                                         \n",
      "Covariance Type:            nonrobust                                         \n",
      "==============================================================================\n",
      "                 coef    std err          t      P>|t|      [0.025      0.975]\n",
      "------------------------------------------------------------------------------\n",
      "const        -20.3607     25.073     -0.812      0.417     -69.650      28.929\n",
      "lexpend        6.2297      2.973      2.096      0.037       0.386      12.073\n",
      "lnchprg       -0.3046      0.035     -8.614      0.000      -0.374      -0.235\n",
      "==============================================================================\n",
      "Omnibus:                       52.915   Durbin-Watson:                   1.903\n",
      "Prob(Omnibus):                  0.000   Jarque-Bera (JB):               83.720\n",
      "Skew:                           0.816   Prob(JB):                     6.61e-19\n",
      "Kurtosis:                       4.504   Cond. No.                     1.58e+03\n",
      "==============================================================================\n",
      "\n",
      "Warnings:\n",
      "[1] Standard Errors assume that the covariance matrix of the errors is correctly specified.\n",
      "[2] The condition number is large, 1.58e+03. This might indicate that there are\n",
      "strong multicollinearity or other numerical problems.\n"
     ]
    },
    {
     "name": "stderr",
     "output_type": "stream",
     "text": [
      "/opt/anaconda3/lib/python3.7/site-packages/numpy/core/fromnumeric.py:2495: FutureWarning: Method .ptp is deprecated and will be removed in a future version. Use numpy.ptp instead.\n",
      "  return ptp(axis=axis, out=out, **kwargs)\n"
     ]
    }
   ],
   "source": [
    "from pandas import DataFrame\n",
    "from sklearn import linear_model\n",
    "import statsmodels.api as sm\n",
    "\n",
    "\n",
    "\n",
    "X = dados[['lexpend','lnchprg']] # here we have 2 variables for multiple regression. If you just want to use one variable for simple linear regression, then use X = df['Interest_Rate'] for example.Alternatively, you may add additional variables within the brackets\n",
    "Y = dados['math10']\n",
    " \n",
    "# with sklearn\n",
    "regr = linear_model.LinearRegression()\n",
    "regr.fit(X, Y)\n",
    "\n",
    "print('Intercept: \\n', regr.intercept_)\n",
    "print('Coefficients: \\n', regr.coef_)\n",
    "\n",
    "# prediction with sklearn\n",
    "#New_Interest_Rate = 2.75\n",
    "#New_Unemployment_Rate = 5.3\n",
    "#print ('Predicted Stock Index Price: \\n', regr.predict([[New_Interest_Rate ,New_Unemployment_Rate]]))\n",
    "\n",
    "# with statsmodels\n",
    "X = sm.add_constant(X) # adding a constant\n",
    " \n",
    "model = sm.OLS(Y, X).fit()\n",
    "predictions = model.predict(X) \n",
    " \n",
    "print_model = model.summary()\n",
    "print(print_model)"
   ]
  },
  {
   "cell_type": "code",
   "execution_count": 19,
   "metadata": {},
   "outputs": [
    {
     "name": "stdout",
     "output_type": "stream",
     "text": [
      "-20.360691 + 6.2296824(lexpend) -0.30458528(lnchprg)\n",
      "N:408  R-quadrado: 0.180\n",
      "Os sinais dos coeficientes de inclinação implicam que mais gastos aumenta a taxa de aprovação dado lnchprg fixo e maior taxa de pobreza (lnchprg) diminui a taxa de aprovação dado o gasto fixo. Era o esperado\n"
     ]
    }
   ],
   "source": [
    "print('-20.360691 + 6.2296824(lexpend) -0.30458528(lnchprg)')\n",
    "print('N:408  R-quadrado: 0.180')\n",
    "print('Os sinais dos coeficientes de inclinação implicam que mais gastos aumenta a taxa de aprovação dado lnchprg fixo e maior taxa de pobreza (lnchprg) diminui a taxa de aprovação dado o gasto fixo. Era o esperado')"
   ]
  },
  {
   "cell_type": "markdown",
   "metadata": {},
   "source": [
    "### ii)"
   ]
  },
  {
   "cell_type": "markdown",
   "metadata": {},
   "source": [
    "O intercepto estimado prediz o valor da variável dependende quando todos os regressores são zero. Fazendo lnchprg=0 faz sentido uma vez que existem escolas com baixa taxa de pobreza. Fazendo lexpend=0 não faz sentido, uma vez que é o mesmo que fazer expend=1, mas essa variáve; é medida em dólares por estudante. Deste modo, -20 é uma previsão sem sentido. "
   ]
  },
  {
   "cell_type": "markdown",
   "metadata": {},
   "source": [
    "### iii)"
   ]
  },
  {
   "cell_type": "code",
   "execution_count": 21,
   "metadata": {
    "scrolled": true
   },
   "outputs": [
    {
     "name": "stdout",
     "output_type": "stream",
     "text": [
      "-69.3410 + 11.1644(lexpend)\n",
      "N=408; R-quadrado=0.030\n"
     ]
    }
   ],
   "source": [
    "print('-69.3410 + 11.1644(lexpend)')\n",
    "print('N=408; R-quadrado=0.030')"
   ]
  },
  {
   "cell_type": "markdown",
   "metadata": {},
   "source": [
    "Este item é equivalente ao item iii) do exercício anterior. Nota-se portanto que o efeito do gasto é bem maior em comparação a regressão múltiplica (quase o dobro) "
   ]
  },
  {
   "cell_type": "markdown",
   "metadata": {},
   "source": [
    "### iv)"
   ]
  },
  {
   "cell_type": "markdown",
   "metadata": {},
   "source": [
    "#### Matriz de Correlação"
   ]
  },
  {
   "cell_type": "code",
   "execution_count": 27,
   "metadata": {},
   "outputs": [
    {
     "data": {
      "text/html": [
       "<div>\n",
       "<style scoped>\n",
       "    .dataframe tbody tr th:only-of-type {\n",
       "        vertical-align: middle;\n",
       "    }\n",
       "\n",
       "    .dataframe tbody tr th {\n",
       "        vertical-align: top;\n",
       "    }\n",
       "\n",
       "    .dataframe thead th {\n",
       "        text-align: right;\n",
       "    }\n",
       "</style>\n",
       "<table border=\"1\" class=\"dataframe\">\n",
       "  <thead>\n",
       "    <tr style=\"text-align: right;\">\n",
       "      <th></th>\n",
       "      <th>lexpend</th>\n",
       "      <th>lnchprg</th>\n",
       "    </tr>\n",
       "  </thead>\n",
       "  <tbody>\n",
       "    <tr>\n",
       "      <td>lexpend</td>\n",
       "      <td>1.000000</td>\n",
       "      <td>-0.107143</td>\n",
       "    </tr>\n",
       "    <tr>\n",
       "      <td>lnchprg</td>\n",
       "      <td>-0.107143</td>\n",
       "      <td>1.000000</td>\n",
       "    </tr>\n",
       "  </tbody>\n",
       "</table>\n",
       "</div>"
      ],
      "text/plain": [
       "          lexpend   lnchprg\n",
       "lexpend  1.000000 -0.107143\n",
       "lnchprg -0.107143  1.000000"
      ]
     },
     "execution_count": 27,
     "metadata": {},
     "output_type": "execute_result"
    }
   ],
   "source": [
    "correlacao=pd.DataFrame()\n",
    "correlacao['lexpend']=dados['lexpend']\n",
    "correlacao['lnchprg']=dados['lnchprg']\n",
    "rets3 = correlacao.pct_change()  \n",
    "corr = rets3.corr()\n",
    "corr\n"
   ]
  },
  {
   "cell_type": "markdown",
   "metadata": {},
   "source": [
    "Deste modo temos que a correlação é de -0.107143, evidenciando que escolas com estudantes mais pobres gastam menos por estudante"
   ]
  },
  {
   "cell_type": "markdown",
   "metadata": {},
   "source": [
    "### v)"
   ]
  },
  {
   "cell_type": "markdown",
   "metadata": {},
   "source": [
    "Como a correlacão é negativa, observamos que ao não se considerar o efeito da taxa de pobreza, os efeitos dos gastos adicionais são superestimados."
   ]
  },
  {
   "cell_type": "markdown",
   "metadata": {},
   "source": [
    "# Capítulo 3 - Wooldridge \n",
    "### Exércicio Computacional 8\n",
    "\n",
    "Use os dados do arquivo DISCRIM para responder a essa questão. São dados de preços de vários itens em restaurantes de fast food e características da população dividida por CEP em Nova Jersey e Pensilvânia. A ideia é ver se os restaurantes cobram preços mais altos em áreas com maior concentração de negros. \n",
    "\n",
    "i) Encontre os valores médios da proporção de negros (prpblck) e renda (income) na amostra, além de seus desvios padrão. Quais são as unidades de medida prpblck e income? \n",
    "\n",
    "ii) Considere um modelo para explicar o preço do refrigerante, psoda, em termos de proporção da população que é negra e com renda mediana: \n",
    "\n",
    "psoda= Bo + B1*prpblck + B2*income + u \n",
    "\n",
    "Estime o modelo por MQO e registre os resultados em forma de equação, incluindo o tamanho da amostra e o R-quadrado. (Não use notação científica ao relatar as estimativas. Interprete o coeficiente sobre prpblck. Você acha que ele é economicamente grande? \n",
    "\n",
    "iii) Compare a estimativa do item (ii) com a estimativa de regressão simples de psoda sobre prpblck. O efeito de discriminação é maior ou menor quando se controla a renda? \n",
    "\n",
    "iv) Um modelo de elasticidade-preço constante em relação à renda pode ser mais adequado. Registre as estimativas do modelo \n",
    "\n",
    "log(psoda)= Bo + B1*prpblck + B2*log(income) + u \n",
    "\n",
    "Se prpblck aumenta 0,2 (20 pontos percentuais), qual é a alteração percentual estimada em psoda? (Dica: A resposta é 2.xx, você encontrar o 'xx'.) \n",
    "\n",
    "v) Agora adicione a variável prppov à regressão do item (iv). O que acontece com B(prpblck)? \n",
    "\n",
    "vi) Encontre a correlação entre log(income) e prppov. É aproximadamente o que você espera? \n",
    "\n",
    "vii) Avalie a seguinte afirmação: \"Como log(income) e prppob são altamente correlacionadas, elas não têm por que estar na mesma regressão\". "
   ]
  },
  {
   "cell_type": "markdown",
   "metadata": {},
   "source": [
    "#### Carregando os dados..."
   ]
  },
  {
   "cell_type": "code",
   "execution_count": 136,
   "metadata": {},
   "outputs": [
    {
     "data": {
      "text/html": [
       "<div>\n",
       "<style scoped>\n",
       "    .dataframe tbody tr th:only-of-type {\n",
       "        vertical-align: middle;\n",
       "    }\n",
       "\n",
       "    .dataframe tbody tr th {\n",
       "        vertical-align: top;\n",
       "    }\n",
       "\n",
       "    .dataframe thead th {\n",
       "        text-align: right;\n",
       "    }\n",
       "</style>\n",
       "<table border=\"1\" class=\"dataframe\">\n",
       "  <thead>\n",
       "    <tr style=\"text-align: right;\">\n",
       "      <th></th>\n",
       "      <th>psoda</th>\n",
       "      <th>pfries</th>\n",
       "      <th>pentree</th>\n",
       "      <th>wagest</th>\n",
       "      <th>nmgrs</th>\n",
       "      <th>nregs</th>\n",
       "      <th>hrsopen</th>\n",
       "      <th>emp</th>\n",
       "      <th>psoda2</th>\n",
       "      <th>pfries2</th>\n",
       "      <th>...</th>\n",
       "      <th>county</th>\n",
       "      <th>lpsoda</th>\n",
       "      <th>lpfries</th>\n",
       "      <th>lhseval</th>\n",
       "      <th>lincome</th>\n",
       "      <th>ldensity</th>\n",
       "      <th>NJ</th>\n",
       "      <th>BK</th>\n",
       "      <th>KFC</th>\n",
       "      <th>RR</th>\n",
       "    </tr>\n",
       "  </thead>\n",
       "  <tbody>\n",
       "    <tr>\n",
       "      <td>0</td>\n",
       "      <td>1.12</td>\n",
       "      <td>1.06</td>\n",
       "      <td>1.02</td>\n",
       "      <td>4.25</td>\n",
       "      <td>3.0</td>\n",
       "      <td>5.0</td>\n",
       "      <td>16.0</td>\n",
       "      <td>27.5</td>\n",
       "      <td>1.11</td>\n",
       "      <td>1.11</td>\n",
       "      <td>...</td>\n",
       "      <td>18</td>\n",
       "      <td>0.113329</td>\n",
       "      <td>0.058269</td>\n",
       "      <td>11.906993</td>\n",
       "      <td>10.704008</td>\n",
       "      <td>8.301521</td>\n",
       "      <td>1</td>\n",
       "      <td>0</td>\n",
       "      <td>0</td>\n",
       "      <td>1</td>\n",
       "    </tr>\n",
       "    <tr>\n",
       "      <td>1</td>\n",
       "      <td>1.06</td>\n",
       "      <td>0.91</td>\n",
       "      <td>0.95</td>\n",
       "      <td>4.75</td>\n",
       "      <td>3.0</td>\n",
       "      <td>3.0</td>\n",
       "      <td>16.5</td>\n",
       "      <td>21.5</td>\n",
       "      <td>1.05</td>\n",
       "      <td>0.89</td>\n",
       "      <td>...</td>\n",
       "      <td>18</td>\n",
       "      <td>0.058269</td>\n",
       "      <td>-0.094311</td>\n",
       "      <td>11.906993</td>\n",
       "      <td>10.704008</td>\n",
       "      <td>8.301521</td>\n",
       "      <td>1</td>\n",
       "      <td>1</td>\n",
       "      <td>0</td>\n",
       "      <td>0</td>\n",
       "    </tr>\n",
       "    <tr>\n",
       "      <td>2</td>\n",
       "      <td>1.06</td>\n",
       "      <td>0.91</td>\n",
       "      <td>0.98</td>\n",
       "      <td>4.25</td>\n",
       "      <td>3.0</td>\n",
       "      <td>5.0</td>\n",
       "      <td>18.0</td>\n",
       "      <td>30.0</td>\n",
       "      <td>1.05</td>\n",
       "      <td>0.94</td>\n",
       "      <td>...</td>\n",
       "      <td>12</td>\n",
       "      <td>0.058269</td>\n",
       "      <td>-0.094311</td>\n",
       "      <td>12.038836</td>\n",
       "      <td>10.625319</td>\n",
       "      <td>9.341369</td>\n",
       "      <td>1</td>\n",
       "      <td>1</td>\n",
       "      <td>0</td>\n",
       "      <td>0</td>\n",
       "    </tr>\n",
       "    <tr>\n",
       "      <td>3</td>\n",
       "      <td>1.12</td>\n",
       "      <td>1.02</td>\n",
       "      <td>1.06</td>\n",
       "      <td>5.00</td>\n",
       "      <td>4.0</td>\n",
       "      <td>5.0</td>\n",
       "      <td>16.0</td>\n",
       "      <td>27.5</td>\n",
       "      <td>1.15</td>\n",
       "      <td>1.05</td>\n",
       "      <td>...</td>\n",
       "      <td>10</td>\n",
       "      <td>0.113329</td>\n",
       "      <td>0.019803</td>\n",
       "      <td>12.052921</td>\n",
       "      <td>10.827071</td>\n",
       "      <td>9.029418</td>\n",
       "      <td>1</td>\n",
       "      <td>0</td>\n",
       "      <td>0</td>\n",
       "      <td>1</td>\n",
       "    </tr>\n",
       "    <tr>\n",
       "      <td>4</td>\n",
       "      <td>1.12</td>\n",
       "      <td>NaN</td>\n",
       "      <td>0.49</td>\n",
       "      <td>5.00</td>\n",
       "      <td>3.0</td>\n",
       "      <td>3.0</td>\n",
       "      <td>16.0</td>\n",
       "      <td>5.0</td>\n",
       "      <td>1.04</td>\n",
       "      <td>1.01</td>\n",
       "      <td>...</td>\n",
       "      <td>10</td>\n",
       "      <td>0.113329</td>\n",
       "      <td>NaN</td>\n",
       "      <td>12.425610</td>\n",
       "      <td>11.188399</td>\n",
       "      <td>6.579251</td>\n",
       "      <td>1</td>\n",
       "      <td>1</td>\n",
       "      <td>0</td>\n",
       "      <td>0</td>\n",
       "    </tr>\n",
       "    <tr>\n",
       "      <td>...</td>\n",
       "      <td>...</td>\n",
       "      <td>...</td>\n",
       "      <td>...</td>\n",
       "      <td>...</td>\n",
       "      <td>...</td>\n",
       "      <td>...</td>\n",
       "      <td>...</td>\n",
       "      <td>...</td>\n",
       "      <td>...</td>\n",
       "      <td>...</td>\n",
       "      <td>...</td>\n",
       "      <td>...</td>\n",
       "      <td>...</td>\n",
       "      <td>...</td>\n",
       "      <td>...</td>\n",
       "      <td>...</td>\n",
       "      <td>...</td>\n",
       "      <td>...</td>\n",
       "      <td>...</td>\n",
       "      <td>...</td>\n",
       "      <td>...</td>\n",
       "    </tr>\n",
       "    <tr>\n",
       "      <td>405</td>\n",
       "      <td>1.11</td>\n",
       "      <td>1.05</td>\n",
       "      <td>0.94</td>\n",
       "      <td>4.50</td>\n",
       "      <td>3.0</td>\n",
       "      <td>2.0</td>\n",
       "      <td>12.5</td>\n",
       "      <td>10.0</td>\n",
       "      <td>1.11</td>\n",
       "      <td>1.11</td>\n",
       "      <td>...</td>\n",
       "      <td>20</td>\n",
       "      <td>0.104360</td>\n",
       "      <td>0.048790</td>\n",
       "      <td>11.946006</td>\n",
       "      <td>10.908375</td>\n",
       "      <td>7.253400</td>\n",
       "      <td>0</td>\n",
       "      <td>0</td>\n",
       "      <td>0</td>\n",
       "      <td>1</td>\n",
       "    </tr>\n",
       "    <tr>\n",
       "      <td>406</td>\n",
       "      <td>0.95</td>\n",
       "      <td>0.74</td>\n",
       "      <td>2.33</td>\n",
       "      <td>4.75</td>\n",
       "      <td>3.0</td>\n",
       "      <td>4.0</td>\n",
       "      <td>10.0</td>\n",
       "      <td>8.0</td>\n",
       "      <td>0.95</td>\n",
       "      <td>0.84</td>\n",
       "      <td>...</td>\n",
       "      <td>20</td>\n",
       "      <td>-0.051293</td>\n",
       "      <td>-0.301105</td>\n",
       "      <td>11.494761</td>\n",
       "      <td>10.611154</td>\n",
       "      <td>8.368465</td>\n",
       "      <td>0</td>\n",
       "      <td>0</td>\n",
       "      <td>1</td>\n",
       "      <td>0</td>\n",
       "    </tr>\n",
       "    <tr>\n",
       "      <td>407</td>\n",
       "      <td>0.97</td>\n",
       "      <td>0.84</td>\n",
       "      <td>0.91</td>\n",
       "      <td>4.25</td>\n",
       "      <td>4.0</td>\n",
       "      <td>3.0</td>\n",
       "      <td>18.0</td>\n",
       "      <td>35.0</td>\n",
       "      <td>0.97</td>\n",
       "      <td>0.86</td>\n",
       "      <td>...</td>\n",
       "      <td>20</td>\n",
       "      <td>-0.030459</td>\n",
       "      <td>-0.174353</td>\n",
       "      <td>11.494761</td>\n",
       "      <td>10.611154</td>\n",
       "      <td>8.368465</td>\n",
       "      <td>0</td>\n",
       "      <td>1</td>\n",
       "      <td>0</td>\n",
       "      <td>0</td>\n",
       "    </tr>\n",
       "    <tr>\n",
       "      <td>408</td>\n",
       "      <td>0.97</td>\n",
       "      <td>0.86</td>\n",
       "      <td>0.89</td>\n",
       "      <td>4.75</td>\n",
       "      <td>4.0</td>\n",
       "      <td>3.0</td>\n",
       "      <td>17.0</td>\n",
       "      <td>18.5</td>\n",
       "      <td>0.97</td>\n",
       "      <td>0.84</td>\n",
       "      <td>...</td>\n",
       "      <td>20</td>\n",
       "      <td>-0.030459</td>\n",
       "      <td>-0.150823</td>\n",
       "      <td>11.494761</td>\n",
       "      <td>10.611154</td>\n",
       "      <td>8.368465</td>\n",
       "      <td>0</td>\n",
       "      <td>1</td>\n",
       "      <td>0</td>\n",
       "      <td>0</td>\n",
       "    </tr>\n",
       "    <tr>\n",
       "      <td>409</td>\n",
       "      <td>1.02</td>\n",
       "      <td>0.89</td>\n",
       "      <td>0.90</td>\n",
       "      <td>4.50</td>\n",
       "      <td>3.0</td>\n",
       "      <td>3.0</td>\n",
       "      <td>15.0</td>\n",
       "      <td>29.0</td>\n",
       "      <td>1.02</td>\n",
       "      <td>0.94</td>\n",
       "      <td>...</td>\n",
       "      <td>3</td>\n",
       "      <td>0.019803</td>\n",
       "      <td>-0.116534</td>\n",
       "      <td>11.684355</td>\n",
       "      <td>10.531483</td>\n",
       "      <td>6.114567</td>\n",
       "      <td>0</td>\n",
       "      <td>1</td>\n",
       "      <td>0</td>\n",
       "      <td>0</td>\n",
       "    </tr>\n",
       "  </tbody>\n",
       "</table>\n",
       "<p>410 rows × 37 columns</p>\n",
       "</div>"
      ],
      "text/plain": [
       "     psoda  pfries  pentree  wagest  nmgrs  nregs  hrsopen   emp  psoda2  \\\n",
       "0     1.12    1.06     1.02    4.25    3.0    5.0     16.0  27.5    1.11   \n",
       "1     1.06    0.91     0.95    4.75    3.0    3.0     16.5  21.5    1.05   \n",
       "2     1.06    0.91     0.98    4.25    3.0    5.0     18.0  30.0    1.05   \n",
       "3     1.12    1.02     1.06    5.00    4.0    5.0     16.0  27.5    1.15   \n",
       "4     1.12     NaN     0.49    5.00    3.0    3.0     16.0   5.0    1.04   \n",
       "..     ...     ...      ...     ...    ...    ...      ...   ...     ...   \n",
       "405   1.11    1.05     0.94    4.50    3.0    2.0     12.5  10.0    1.11   \n",
       "406   0.95    0.74     2.33    4.75    3.0    4.0     10.0   8.0    0.95   \n",
       "407   0.97    0.84     0.91    4.25    4.0    3.0     18.0  35.0    0.97   \n",
       "408   0.97    0.86     0.89    4.75    4.0    3.0     17.0  18.5    0.97   \n",
       "409   1.02    0.89     0.90    4.50    3.0    3.0     15.0  29.0    1.02   \n",
       "\n",
       "     pfries2  ...  county    lpsoda   lpfries    lhseval    lincome  ldensity  \\\n",
       "0       1.11  ...      18  0.113329  0.058269  11.906993  10.704008  8.301521   \n",
       "1       0.89  ...      18  0.058269 -0.094311  11.906993  10.704008  8.301521   \n",
       "2       0.94  ...      12  0.058269 -0.094311  12.038836  10.625319  9.341369   \n",
       "3       1.05  ...      10  0.113329  0.019803  12.052921  10.827071  9.029418   \n",
       "4       1.01  ...      10  0.113329       NaN  12.425610  11.188399  6.579251   \n",
       "..       ...  ...     ...       ...       ...        ...        ...       ...   \n",
       "405     1.11  ...      20  0.104360  0.048790  11.946006  10.908375  7.253400   \n",
       "406     0.84  ...      20 -0.051293 -0.301105  11.494761  10.611154  8.368465   \n",
       "407     0.86  ...      20 -0.030459 -0.174353  11.494761  10.611154  8.368465   \n",
       "408     0.84  ...      20 -0.030459 -0.150823  11.494761  10.611154  8.368465   \n",
       "409     0.94  ...       3  0.019803 -0.116534  11.684355  10.531483  6.114567   \n",
       "\n",
       "     NJ  BK  KFC  RR  \n",
       "0     1   0    0   1  \n",
       "1     1   1    0   0  \n",
       "2     1   1    0   0  \n",
       "3     1   0    0   1  \n",
       "4     1   1    0   0  \n",
       "..   ..  ..  ...  ..  \n",
       "405   0   0    0   1  \n",
       "406   0   0    1   0  \n",
       "407   0   1    0   0  \n",
       "408   0   1    0   0  \n",
       "409   0   1    0   0  \n",
       "\n",
       "[410 rows x 37 columns]"
      ]
     },
     "execution_count": 136,
     "metadata": {},
     "output_type": "execute_result"
    }
   ],
   "source": [
    "dados=pd.read_stata('discrim.dta')\n",
    "dados"
   ]
  },
  {
   "cell_type": "markdown",
   "metadata": {},
   "source": [
    "### i)"
   ]
  },
  {
   "cell_type": "code",
   "execution_count": 46,
   "metadata": {},
   "outputs": [
    {
     "data": {
      "text/plain": [
       "0.11348654329776764"
      ]
     },
     "execution_count": 46,
     "metadata": {},
     "output_type": "execute_result"
    }
   ],
   "source": [
    "dados['prpblck'].mean()"
   ]
  },
  {
   "cell_type": "code",
   "execution_count": 47,
   "metadata": {},
   "outputs": [
    {
     "data": {
      "text/plain": [
       "47053.7890625"
      ]
     },
     "execution_count": 47,
     "metadata": {},
     "output_type": "execute_result"
    }
   ],
   "source": [
    "dados['income'].mean()"
   ]
  },
  {
   "cell_type": "code",
   "execution_count": 48,
   "metadata": {},
   "outputs": [
    {
     "data": {
      "text/plain": [
       "0.18241645395755768"
      ]
     },
     "execution_count": 48,
     "metadata": {},
     "output_type": "execute_result"
    }
   ],
   "source": [
    "dados['prpblck'].std()"
   ]
  },
  {
   "cell_type": "code",
   "execution_count": 49,
   "metadata": {},
   "outputs": [
    {
     "data": {
      "text/plain": [
       "13179.2880859375"
      ]
     },
     "execution_count": 49,
     "metadata": {},
     "output_type": "execute_result"
    }
   ],
   "source": [
    "dados['income'].std()"
   ]
  },
  {
   "cell_type": "markdown",
   "metadata": {},
   "source": [
    "### ii)"
   ]
  },
  {
   "cell_type": "markdown",
   "metadata": {},
   "source": [
    "#### Nesta base de dados precisamos de alguns ajustes uma vez que algumas linhas estavam com valores considerados vazios (null). Deste modo limpamos a base de dados com a funcão drop.na() e depois certificamos que o número de observacões das variáveis explicada e explicativas eram os mesmos (função len()) "
   ]
  },
  {
   "cell_type": "code",
   "execution_count": 123,
   "metadata": {},
   "outputs": [],
   "source": [
    "X = dados[['prpblck','income']] \n",
    "Y = dados['psoda']"
   ]
  },
  {
   "cell_type": "code",
   "execution_count": 124,
   "metadata": {
    "scrolled": true
   },
   "outputs": [],
   "source": [
    "X=X.dropna()\n",
    "Y=Y.dropna()\n"
   ]
  },
  {
   "cell_type": "code",
   "execution_count": 125,
   "metadata": {},
   "outputs": [],
   "source": [
    "X=X[:len(Y)]"
   ]
  },
  {
   "cell_type": "markdown",
   "metadata": {},
   "source": [
    "### Estimando a regressão..."
   ]
  },
  {
   "cell_type": "code",
   "execution_count": 110,
   "metadata": {},
   "outputs": [
    {
     "name": "stdout",
     "output_type": "stream",
     "text": [
      "Intercept: \n",
      " 0.9734553803894059\n",
      "Coefficients: \n",
      " [0.00000000e+00 1.12653064e-01 1.24169787e-06]\n",
      "                            OLS Regression Results                            \n",
      "==============================================================================\n",
      "Dep. Variable:                      y   R-squared:                       0.051\n",
      "Model:                            OLS   Adj. R-squared:                  0.046\n",
      "Method:                 Least Squares   F-statistic:                     10.75\n",
      "Date:                Thu, 19 Mar 2020   Prob (F-statistic):           2.84e-05\n",
      "Time:                        08:39:54   Log-Likelihood:                 414.53\n",
      "No. Observations:                 402   AIC:                            -823.1\n",
      "Df Residuals:                     399   BIC:                            -811.1\n",
      "Df Model:                           2                                         \n",
      "Covariance Type:            nonrobust                                         \n",
      "==============================================================================\n",
      "                 coef    std err          t      P>|t|      [0.025      0.975]\n",
      "------------------------------------------------------------------------------\n",
      "const          0.9735      0.019     51.041      0.000       0.936       1.011\n",
      "prpblck        0.1127      0.026      4.305      0.000       0.061       0.164\n",
      "income      1.242e-06   3.62e-07      3.427      0.001    5.29e-07    1.95e-06\n",
      "==============================================================================\n",
      "Omnibus:                       28.951   Durbin-Watson:                   1.711\n",
      "Prob(Omnibus):                  0.000   Jarque-Bera (JB):               61.852\n",
      "Skew:                           0.390   Prob(JB):                     3.71e-14\n",
      "Kurtosis:                       4.756   Cond. No.                     3.29e+05\n",
      "==============================================================================\n",
      "\n",
      "Warnings:\n",
      "[1] Standard Errors assume that the covariance matrix of the errors is correctly specified.\n",
      "[2] The condition number is large, 3.29e+05. This might indicate that there are\n",
      "strong multicollinearity or other numerical problems.\n"
     ]
    },
    {
     "name": "stderr",
     "output_type": "stream",
     "text": [
      "/opt/anaconda3/lib/python3.7/site-packages/numpy/core/fromnumeric.py:2495: FutureWarning: Method .ptp is deprecated and will be removed in a future version. Use numpy.ptp instead.\n",
      "  return ptp(axis=axis, out=out, **kwargs)\n"
     ]
    }
   ],
   "source": [
    "\n",
    "# with sklearn\n",
    "regr = linear_model.LinearRegression()\n",
    "regr.fit(X, Y)\n",
    "\n",
    "print('Intercept: \\n', regr.intercept_)\n",
    "print('Coefficients: \\n', regr.coef_)\n",
    "\n",
    "X = sm.add_constant(X) # adding a constant\n",
    "Y=list(Y)\n",
    "model = sm.OLS(Y, X).fit()\n",
    "predictions = model.predict(X) \n",
    "\n",
    "print_model = model.summary()\n",
    "print(print_model)\n"
   ]
  },
  {
   "cell_type": "code",
   "execution_count": 114,
   "metadata": {},
   "outputs": [
    {
     "name": "stdout",
     "output_type": "stream",
     "text": [
      "psoda = 0.97345 + 0.1127(prpblck) + 0.1127(income)\n",
      "n=402, R-quadrado=.051\n"
     ]
    }
   ],
   "source": [
    "print('psoda = 0.97345 + 0.1127(prpblck) + 0.1127(income)')\n",
    "print('n=402, R-quadrado=.051')"
   ]
  },
  {
   "cell_type": "markdown",
   "metadata": {},
   "source": [
    "Deste modo, se prpblck aumentar 10%, o preço da soda é estimado para aumentar .0112 dolares, ou 1.12 centavos."
   ]
  },
  {
   "cell_type": "markdown",
   "metadata": {},
   "source": [
    "### iii)"
   ]
  },
  {
   "cell_type": "markdown",
   "metadata": {},
   "source": [
    "#### Carregando as variáveis..."
   ]
  },
  {
   "cell_type": "code",
   "execution_count": 126,
   "metadata": {},
   "outputs": [],
   "source": [
    "Y=Y\n",
    "X=X['prpblck']"
   ]
  },
  {
   "cell_type": "code",
   "execution_count": 133,
   "metadata": {},
   "outputs": [],
   "source": [
    "X=list(X)\n",
    "y=Y"
   ]
  },
  {
   "cell_type": "markdown",
   "metadata": {},
   "source": [
    "#### Estimando a regressão..."
   ]
  },
  {
   "cell_type": "code",
   "execution_count": 134,
   "metadata": {},
   "outputs": [
    {
     "data": {
      "text/html": [
       "<table class=\"simpletable\">\n",
       "<caption>OLS Regression Results</caption>\n",
       "<tr>\n",
       "  <th>Dep. Variable:</th>            <td>y</td>        <th>  R-squared:         </th> <td>   0.023</td>\n",
       "</tr>\n",
       "<tr>\n",
       "  <th>Model:</th>                   <td>OLS</td>       <th>  Adj. R-squared:    </th> <td>   0.021</td>\n",
       "</tr>\n",
       "<tr>\n",
       "  <th>Method:</th>             <td>Least Squares</td>  <th>  F-statistic:       </th> <td>   9.495</td>\n",
       "</tr>\n",
       "<tr>\n",
       "  <th>Date:</th>             <td>Thu, 19 Mar 2020</td> <th>  Prob (F-statistic):</th>  <td>0.00220</td>\n",
       "</tr>\n",
       "<tr>\n",
       "  <th>Time:</th>                 <td>08:51:29</td>     <th>  Log-Likelihood:    </th> <td>  408.70</td>\n",
       "</tr>\n",
       "<tr>\n",
       "  <th>No. Observations:</th>      <td>   402</td>      <th>  AIC:               </th> <td>  -813.4</td>\n",
       "</tr>\n",
       "<tr>\n",
       "  <th>Df Residuals:</th>          <td>   400</td>      <th>  BIC:               </th> <td>  -805.4</td>\n",
       "</tr>\n",
       "<tr>\n",
       "  <th>Df Model:</th>              <td>     1</td>      <th>                     </th>     <td> </td>   \n",
       "</tr>\n",
       "<tr>\n",
       "  <th>Covariance Type:</th>      <td>nonrobust</td>    <th>                     </th>     <td> </td>   \n",
       "</tr>\n",
       "</table>\n",
       "<table class=\"simpletable\">\n",
       "<tr>\n",
       "    <td></td>       <th>coef</th>     <th>std err</th>      <th>t</th>      <th>P>|t|</th>  <th>[0.025</th>    <th>0.975]</th>  \n",
       "</tr>\n",
       "<tr>\n",
       "  <th>const</th> <td>    1.0364</td> <td>    0.005</td> <td>  200.759</td> <td> 0.000</td> <td>    1.026</td> <td>    1.047</td>\n",
       "</tr>\n",
       "<tr>\n",
       "  <th>x1</th>    <td>    0.0735</td> <td>    0.024</td> <td>    3.081</td> <td> 0.002</td> <td>    0.027</td> <td>    0.120</td>\n",
       "</tr>\n",
       "</table>\n",
       "<table class=\"simpletable\">\n",
       "<tr>\n",
       "  <th>Omnibus:</th>       <td>30.430</td> <th>  Durbin-Watson:     </th> <td>   1.651</td>\n",
       "</tr>\n",
       "<tr>\n",
       "  <th>Prob(Omnibus):</th> <td> 0.000</td> <th>  Jarque-Bera (JB):  </th> <td>  65.920</td>\n",
       "</tr>\n",
       "<tr>\n",
       "  <th>Skew:</th>          <td> 0.407</td> <th>  Prob(JB):          </th> <td>4.85e-15</td>\n",
       "</tr>\n",
       "<tr>\n",
       "  <th>Kurtosis:</th>      <td> 4.809</td> <th>  Cond. No.          </th> <td>    5.52</td>\n",
       "</tr>\n",
       "</table><br/><br/>Warnings:<br/>[1] Standard Errors assume that the covariance matrix of the errors is correctly specified."
      ],
      "text/plain": [
       "<class 'statsmodels.iolib.summary.Summary'>\n",
       "\"\"\"\n",
       "                            OLS Regression Results                            \n",
       "==============================================================================\n",
       "Dep. Variable:                      y   R-squared:                       0.023\n",
       "Model:                            OLS   Adj. R-squared:                  0.021\n",
       "Method:                 Least Squares   F-statistic:                     9.495\n",
       "Date:                Thu, 19 Mar 2020   Prob (F-statistic):            0.00220\n",
       "Time:                        08:51:29   Log-Likelihood:                 408.70\n",
       "No. Observations:                 402   AIC:                            -813.4\n",
       "Df Residuals:                     400   BIC:                            -805.4\n",
       "Df Model:                           1                                         \n",
       "Covariance Type:            nonrobust                                         \n",
       "==============================================================================\n",
       "                 coef    std err          t      P>|t|      [0.025      0.975]\n",
       "------------------------------------------------------------------------------\n",
       "const          1.0364      0.005    200.759      0.000       1.026       1.047\n",
       "x1             0.0735      0.024      3.081      0.002       0.027       0.120\n",
       "==============================================================================\n",
       "Omnibus:                       30.430   Durbin-Watson:                   1.651\n",
       "Prob(Omnibus):                  0.000   Jarque-Bera (JB):               65.920\n",
       "Skew:                           0.407   Prob(JB):                     4.85e-15\n",
       "Kurtosis:                       4.809   Cond. No.                         5.52\n",
       "==============================================================================\n",
       "\n",
       "Warnings:\n",
       "[1] Standard Errors assume that the covariance matrix of the errors is correctly specified.\n",
       "\"\"\""
      ]
     },
     "execution_count": 134,
     "metadata": {},
     "output_type": "execute_result"
    }
   ],
   "source": [
    "# é necessário adicionar uma constante a matriz X\n",
    "X_sm = sm.add_constant(X)\n",
    "# OLS vem de Ordinary Least Squares e o método fit irá treinar o modelo\n",
    "results = sm.OLS(y, X_sm).fit()\n",
    "# mostrando as estatísticas do modelo\n",
    "results.summary()\n",
    "# mostrando as previsões para o mesmo conjunto passado\n",
    "results.predict(X_sm)\n",
    "results.summary()"
   ]
  },
  {
   "cell_type": "markdown",
   "metadata": {},
   "source": [
    "#### Resposta Final:\n",
    "Nota-se que a regressão simples tem o coeficiente de prpblck estimado em .0735, isto é, menor em comparação à regressão mútipla (.112). Isto ocorre pois prpblck e renda são negativamente correlacionados e renda tem um coeficiente positivo na regressão múltipla."
   ]
  },
  {
   "cell_type": "markdown",
   "metadata": {},
   "source": [
    "### iv)"
   ]
  },
  {
   "cell_type": "markdown",
   "metadata": {},
   "source": [
    "#### Carregando os dados..."
   ]
  },
  {
   "cell_type": "code",
   "execution_count": 159,
   "metadata": {},
   "outputs": [
    {
     "data": {
      "text/html": [
       "<div>\n",
       "<style scoped>\n",
       "    .dataframe tbody tr th:only-of-type {\n",
       "        vertical-align: middle;\n",
       "    }\n",
       "\n",
       "    .dataframe tbody tr th {\n",
       "        vertical-align: top;\n",
       "    }\n",
       "\n",
       "    .dataframe thead th {\n",
       "        text-align: right;\n",
       "    }\n",
       "</style>\n",
       "<table border=\"1\" class=\"dataframe\">\n",
       "  <thead>\n",
       "    <tr style=\"text-align: right;\">\n",
       "      <th></th>\n",
       "      <th>prpblck</th>\n",
       "      <th>lincome</th>\n",
       "    </tr>\n",
       "  </thead>\n",
       "  <tbody>\n",
       "    <tr>\n",
       "      <td>0</td>\n",
       "      <td>0.171154</td>\n",
       "      <td>10.704008</td>\n",
       "    </tr>\n",
       "    <tr>\n",
       "      <td>1</td>\n",
       "      <td>0.171154</td>\n",
       "      <td>10.704008</td>\n",
       "    </tr>\n",
       "    <tr>\n",
       "      <td>2</td>\n",
       "      <td>0.047360</td>\n",
       "      <td>10.625319</td>\n",
       "    </tr>\n",
       "    <tr>\n",
       "      <td>3</td>\n",
       "      <td>0.052839</td>\n",
       "      <td>10.827071</td>\n",
       "    </tr>\n",
       "    <tr>\n",
       "      <td>4</td>\n",
       "      <td>0.034480</td>\n",
       "      <td>11.188399</td>\n",
       "    </tr>\n",
       "    <tr>\n",
       "      <td>...</td>\n",
       "      <td>...</td>\n",
       "      <td>...</td>\n",
       "    </tr>\n",
       "    <tr>\n",
       "      <td>398</td>\n",
       "      <td>0.033835</td>\n",
       "      <td>11.331152</td>\n",
       "    </tr>\n",
       "    <tr>\n",
       "      <td>399</td>\n",
       "      <td>0.022458</td>\n",
       "      <td>10.840071</td>\n",
       "    </tr>\n",
       "    <tr>\n",
       "      <td>400</td>\n",
       "      <td>0.022458</td>\n",
       "      <td>10.840071</td>\n",
       "    </tr>\n",
       "    <tr>\n",
       "      <td>401</td>\n",
       "      <td>0.022458</td>\n",
       "      <td>10.840071</td>\n",
       "    </tr>\n",
       "    <tr>\n",
       "      <td>402</td>\n",
       "      <td>0.034672</td>\n",
       "      <td>10.652495</td>\n",
       "    </tr>\n",
       "  </tbody>\n",
       "</table>\n",
       "<p>402 rows × 2 columns</p>\n",
       "</div>"
      ],
      "text/plain": [
       "      prpblck    lincome\n",
       "0    0.171154  10.704008\n",
       "1    0.171154  10.704008\n",
       "2    0.047360  10.625319\n",
       "3    0.052839  10.827071\n",
       "4    0.034480  11.188399\n",
       "..        ...        ...\n",
       "398  0.033835  11.331152\n",
       "399  0.022458  10.840071\n",
       "400  0.022458  10.840071\n",
       "401  0.022458  10.840071\n",
       "402  0.034672  10.652495\n",
       "\n",
       "[402 rows x 2 columns]"
      ]
     },
     "execution_count": 159,
     "metadata": {},
     "output_type": "execute_result"
    }
   ],
   "source": [
    "Y=dados['lpsoda']\n",
    "X=dados[['prpblck','lincome']]\n",
    "Y=Y.dropna()\n",
    "X=X.dropna()\n",
    "X=X[:len(Y)]\n",
    "Y=list(Y)\n",
    "X"
   ]
  },
  {
   "cell_type": "markdown",
   "metadata": {},
   "source": [
    "#### Estimando a regressão"
   ]
  },
  {
   "cell_type": "code",
   "execution_count": 160,
   "metadata": {},
   "outputs": [
    {
     "name": "stdout",
     "output_type": "stream",
     "text": [
      "Intercept: \n",
      " -0.56089884\n",
      "Coefficients: \n",
      " [0.11441682 0.05485626]\n",
      "                            OLS Regression Results                            \n",
      "==============================================================================\n",
      "Dep. Variable:                      y   R-squared:                       0.050\n",
      "Model:                            OLS   Adj. R-squared:                  0.045\n",
      "Method:                 Least Squares   F-statistic:                     10.51\n",
      "Date:                Thu, 19 Mar 2020   Prob (F-statistic):           3.58e-05\n",
      "Time:                        09:02:50   Log-Likelihood:                 432.66\n",
      "No. Observations:                 402   AIC:                            -859.3\n",
      "Df Residuals:                     399   BIC:                            -847.3\n",
      "Df Model:                           2                                         \n",
      "Covariance Type:            nonrobust                                         \n",
      "==============================================================================\n",
      "                 coef    std err          t      P>|t|      [0.025      0.975]\n",
      "------------------------------------------------------------------------------\n",
      "const         -0.5609      0.180     -3.115      0.002      -0.915      -0.207\n",
      "prpblck        0.1144      0.026      4.406      0.000       0.063       0.165\n",
      "lincome        0.0549      0.017      3.294      0.001       0.022       0.088\n",
      "==============================================================================\n",
      "Omnibus:                       13.088   Durbin-Watson:                   1.705\n",
      "Prob(Omnibus):                  0.001   Jarque-Bera (JB):               27.471\n",
      "Skew:                          -0.027   Prob(JB):                     1.08e-06\n",
      "Kurtosis:                       4.280   Cond. No.                         473.\n",
      "==============================================================================\n",
      "\n",
      "Warnings:\n",
      "[1] Standard Errors assume that the covariance matrix of the errors is correctly specified.\n"
     ]
    },
    {
     "name": "stderr",
     "output_type": "stream",
     "text": [
      "/opt/anaconda3/lib/python3.7/site-packages/numpy/core/fromnumeric.py:2495: FutureWarning: Method .ptp is deprecated and will be removed in a future version. Use numpy.ptp instead.\n",
      "  return ptp(axis=axis, out=out, **kwargs)\n"
     ]
    }
   ],
   "source": [
    "# with sklearn\n",
    "regr = linear_model.LinearRegression()\n",
    "regr.fit(X, Y)\n",
    "\n",
    "print('Intercept: \\n', regr.intercept_)\n",
    "print('Coefficients: \\n', regr.coef_)\n",
    "\n",
    "X = sm.add_constant(X) # adding a constant\n",
    "Y=list(Y)\n",
    "model = sm.OLS(Y, X).fit()\n",
    "predictions = model.predict(X) \n",
    "\n",
    "print_model = model.summary()\n",
    "print(print_model)\n",
    "\n"
   ]
  },
  {
   "cell_type": "code",
   "execution_count": 162,
   "metadata": {},
   "outputs": [
    {
     "name": "stdout",
     "output_type": "stream",
     "text": [
      "lpsoda = -0.569 + 0.1144(prpblck) + 0.0549(lincome)\n"
     ]
    }
   ],
   "source": [
    "print('lpsoda = -0.569 + 0.1144(prpblck) + 0.0549(lincome)')\n",
    "print('n=402, R-quadrado=.050')"
   ]
  },
  {
   "cell_type": "code",
   "execution_count": 166,
   "metadata": {},
   "outputs": [
    {
     "name": "stdout",
     "output_type": "stream",
     "text": [
      "Deste modo se prpblck aumenta .20, log(psoda) é estimado para aumentar 0.02288 ou 2.2880000000000003%\n"
     ]
    }
   ],
   "source": [
    "print('Deste modo se prpblck aumenta .20, log(psoda) é estimado para aumentar ' + str(0.20*0.1144) + ' ou ' + str(100*0.20*0.1144) + '%')"
   ]
  },
  {
   "cell_type": "markdown",
   "metadata": {},
   "source": [
    "### v)"
   ]
  },
  {
   "cell_type": "markdown",
   "metadata": {},
   "source": [
    "#### Carregando os dados..."
   ]
  },
  {
   "cell_type": "code",
   "execution_count": 167,
   "metadata": {},
   "outputs": [
    {
     "data": {
      "text/html": [
       "<div>\n",
       "<style scoped>\n",
       "    .dataframe tbody tr th:only-of-type {\n",
       "        vertical-align: middle;\n",
       "    }\n",
       "\n",
       "    .dataframe tbody tr th {\n",
       "        vertical-align: top;\n",
       "    }\n",
       "\n",
       "    .dataframe thead th {\n",
       "        text-align: right;\n",
       "    }\n",
       "</style>\n",
       "<table border=\"1\" class=\"dataframe\">\n",
       "  <thead>\n",
       "    <tr style=\"text-align: right;\">\n",
       "      <th></th>\n",
       "      <th>prpblck</th>\n",
       "      <th>lincome</th>\n",
       "      <th>prppov</th>\n",
       "    </tr>\n",
       "  </thead>\n",
       "  <tbody>\n",
       "    <tr>\n",
       "      <td>0</td>\n",
       "      <td>0.171154</td>\n",
       "      <td>10.704008</td>\n",
       "      <td>0.036579</td>\n",
       "    </tr>\n",
       "    <tr>\n",
       "      <td>1</td>\n",
       "      <td>0.171154</td>\n",
       "      <td>10.704008</td>\n",
       "      <td>0.036579</td>\n",
       "    </tr>\n",
       "    <tr>\n",
       "      <td>2</td>\n",
       "      <td>0.047360</td>\n",
       "      <td>10.625319</td>\n",
       "      <td>0.087907</td>\n",
       "    </tr>\n",
       "    <tr>\n",
       "      <td>3</td>\n",
       "      <td>0.052839</td>\n",
       "      <td>10.827071</td>\n",
       "      <td>0.059123</td>\n",
       "    </tr>\n",
       "    <tr>\n",
       "      <td>4</td>\n",
       "      <td>0.034480</td>\n",
       "      <td>11.188399</td>\n",
       "      <td>0.025415</td>\n",
       "    </tr>\n",
       "    <tr>\n",
       "      <td>...</td>\n",
       "      <td>...</td>\n",
       "      <td>...</td>\n",
       "      <td>...</td>\n",
       "    </tr>\n",
       "    <tr>\n",
       "      <td>398</td>\n",
       "      <td>0.033835</td>\n",
       "      <td>11.331152</td>\n",
       "      <td>0.036649</td>\n",
       "    </tr>\n",
       "    <tr>\n",
       "      <td>399</td>\n",
       "      <td>0.022458</td>\n",
       "      <td>10.840071</td>\n",
       "      <td>0.027570</td>\n",
       "    </tr>\n",
       "    <tr>\n",
       "      <td>400</td>\n",
       "      <td>0.022458</td>\n",
       "      <td>10.840071</td>\n",
       "      <td>0.027570</td>\n",
       "    </tr>\n",
       "    <tr>\n",
       "      <td>401</td>\n",
       "      <td>0.022458</td>\n",
       "      <td>10.840071</td>\n",
       "      <td>0.027570</td>\n",
       "    </tr>\n",
       "    <tr>\n",
       "      <td>402</td>\n",
       "      <td>0.034672</td>\n",
       "      <td>10.652495</td>\n",
       "      <td>0.007743</td>\n",
       "    </tr>\n",
       "  </tbody>\n",
       "</table>\n",
       "<p>402 rows × 3 columns</p>\n",
       "</div>"
      ],
      "text/plain": [
       "      prpblck    lincome    prppov\n",
       "0    0.171154  10.704008  0.036579\n",
       "1    0.171154  10.704008  0.036579\n",
       "2    0.047360  10.625319  0.087907\n",
       "3    0.052839  10.827071  0.059123\n",
       "4    0.034480  11.188399  0.025415\n",
       "..        ...        ...       ...\n",
       "398  0.033835  11.331152  0.036649\n",
       "399  0.022458  10.840071  0.027570\n",
       "400  0.022458  10.840071  0.027570\n",
       "401  0.022458  10.840071  0.027570\n",
       "402  0.034672  10.652495  0.007743\n",
       "\n",
       "[402 rows x 3 columns]"
      ]
     },
     "execution_count": 167,
     "metadata": {},
     "output_type": "execute_result"
    }
   ],
   "source": [
    "Y=dados['lpsoda']\n",
    "X=dados[['prpblck','lincome','prppov']]\n",
    "Y=Y.dropna()\n",
    "X=X.dropna()\n",
    "X=X[:len(Y)]\n",
    "Y=list(Y)\n",
    "X"
   ]
  },
  {
   "cell_type": "markdown",
   "metadata": {},
   "source": [
    "#### Estimando a regressão..."
   ]
  },
  {
   "cell_type": "code",
   "execution_count": 168,
   "metadata": {},
   "outputs": [
    {
     "name": "stdout",
     "output_type": "stream",
     "text": [
      "Intercept: \n",
      " -1.3686599\n",
      "Coefficients: \n",
      " [0.0558176  0.12775162 0.45953408]\n",
      "                            OLS Regression Results                            \n",
      "==============================================================================\n",
      "Dep. Variable:                      y   R-squared:                       0.077\n",
      "Model:                            OLS   Adj. R-squared:                  0.070\n",
      "Method:                 Least Squares   F-statistic:                     11.13\n",
      "Date:                Thu, 19 Mar 2020   Prob (F-statistic):           4.99e-07\n",
      "Time:                        09:10:38   Log-Likelihood:                 438.53\n",
      "No. Observations:                 402   AIC:                            -869.1\n",
      "Df Residuals:                     398   BIC:                            -853.1\n",
      "Df Model:                           3                                         \n",
      "Covariance Type:            nonrobust                                         \n",
      "==============================================================================\n",
      "                 coef    std err          t      P>|t|      [0.025      0.975]\n",
      "------------------------------------------------------------------------------\n",
      "const         -1.3687      0.295     -4.644      0.000      -1.948      -0.789\n",
      "prpblck        0.0558      0.031      1.813      0.071      -0.005       0.116\n",
      "lincome        0.1278      0.027      4.760      0.000       0.075       0.181\n",
      "prppov         0.4595      0.134      3.436      0.001       0.197       0.722\n",
      "==============================================================================\n",
      "Omnibus:                       13.648   Durbin-Watson:                   1.750\n",
      "Prob(Omnibus):                  0.001   Jarque-Bera (JB):               29.334\n",
      "Skew:                          -0.031   Prob(JB):                     4.27e-07\n",
      "Kurtosis:                       4.322   Cond. No.                         835.\n",
      "==============================================================================\n",
      "\n",
      "Warnings:\n",
      "[1] Standard Errors assume that the covariance matrix of the errors is correctly specified.\n"
     ]
    },
    {
     "name": "stderr",
     "output_type": "stream",
     "text": [
      "/opt/anaconda3/lib/python3.7/site-packages/numpy/core/fromnumeric.py:2495: FutureWarning: Method .ptp is deprecated and will be removed in a future version. Use numpy.ptp instead.\n",
      "  return ptp(axis=axis, out=out, **kwargs)\n"
     ]
    }
   ],
   "source": [
    "# with sklearn\n",
    "regr = linear_model.LinearRegression()\n",
    "regr.fit(X, Y)\n",
    "\n",
    "print('Intercept: \\n', regr.intercept_)\n",
    "print('Coefficients: \\n', regr.coef_)\n",
    "\n",
    "X = sm.add_constant(X) # adding a constant\n",
    "Y=list(Y)\n",
    "model = sm.OLS(Y, X).fit()\n",
    "predictions = model.predict(X) \n",
    "\n",
    "print_model = model.summary()\n",
    "print(print_model)"
   ]
  },
  {
   "cell_type": "code",
   "execution_count": 171,
   "metadata": {},
   "outputs": [
    {
     "name": "stdout",
     "output_type": "stream",
     "text": [
      "lsoda = -1.368 + 0.00558(prpblck) + 0.1278(lincome) + 0.4595(prppov)\n",
      "n=402, R-quadrado=0.077\n",
      "Note que prpblck sai de 0.11 para 0.0055\n"
     ]
    }
   ],
   "source": [
    "print('lsoda = -1.368 + 0.00558(prpblck) + 0.1278(lincome) + 0.4595(prppov)')\n",
    "print('n=402, R-quadrado=0.077')\n",
    "print('Note que prpblck sai de 0.11 para 0.0055')"
   ]
  },
  {
   "cell_type": "markdown",
   "metadata": {},
   "source": [
    "### vi)"
   ]
  },
  {
   "cell_type": "markdown",
   "metadata": {},
   "source": [
    "#### Construindo a matriz de correlação entre as duas variáveis.."
   ]
  },
  {
   "cell_type": "code",
   "execution_count": 172,
   "metadata": {},
   "outputs": [
    {
     "data": {
      "text/html": [
       "<div>\n",
       "<style scoped>\n",
       "    .dataframe tbody tr th:only-of-type {\n",
       "        vertical-align: middle;\n",
       "    }\n",
       "\n",
       "    .dataframe tbody tr th {\n",
       "        vertical-align: top;\n",
       "    }\n",
       "\n",
       "    .dataframe thead th {\n",
       "        text-align: right;\n",
       "    }\n",
       "</style>\n",
       "<table border=\"1\" class=\"dataframe\">\n",
       "  <thead>\n",
       "    <tr style=\"text-align: right;\">\n",
       "      <th></th>\n",
       "      <th>prpblck</th>\n",
       "      <th>lincome</th>\n",
       "    </tr>\n",
       "  </thead>\n",
       "  <tbody>\n",
       "    <tr>\n",
       "      <td>prpblck</td>\n",
       "      <td>1.000000</td>\n",
       "      <td>-0.233504</td>\n",
       "    </tr>\n",
       "    <tr>\n",
       "      <td>lincome</td>\n",
       "      <td>-0.233504</td>\n",
       "      <td>1.000000</td>\n",
       "    </tr>\n",
       "  </tbody>\n",
       "</table>\n",
       "</div>"
      ],
      "text/plain": [
       "          prpblck   lincome\n",
       "prpblck  1.000000 -0.233504\n",
       "lincome -0.233504  1.000000"
      ]
     },
     "execution_count": 172,
     "metadata": {},
     "output_type": "execute_result"
    }
   ],
   "source": [
    "correlacao=pd.DataFrame()\n",
    "correlacao['prpblck']=dados['prpblck']\n",
    "correlacao['lincome']=dados['lincome']\n",
    "rets3 = correlacao.pct_change()  \n",
    "corr = rets3.corr()\n",
    "corr\n",
    "\n"
   ]
  },
  {
   "cell_type": "markdown",
   "metadata": {},
   "source": [
    "Note que a correlação é -0.233, o que faz sentido, uma vez que a taxa de pobreza é determinada pela renda, mas não diretamente em termos da renda média"
   ]
  },
  {
   "cell_type": "markdown",
   "metadata": {},
   "source": [
    "### vii)"
   ]
  },
  {
   "cell_type": "markdown",
   "metadata": {},
   "source": [
    "Não há argumentos para justificar alta correlação, mas estamos tentando determinar se há discriminação de preços para negros. Para isolarmos o efeito de discriminação totalmente precisariamos de mais medidas de renda do que as expostas. A inclusão das duas variáveis faz sentido."
   ]
  },
  {
   "cell_type": "code",
   "execution_count": null,
   "metadata": {},
   "outputs": [],
   "source": []
  }
 ],
 "metadata": {
  "kernelspec": {
   "display_name": "Python 3",
   "language": "python",
   "name": "python3"
  },
  "language_info": {
   "codemirror_mode": {
    "name": "ipython",
    "version": 3
   },
   "file_extension": ".py",
   "mimetype": "text/x-python",
   "name": "python",
   "nbconvert_exporter": "python",
   "pygments_lexer": "ipython3",
   "version": "3.7.4"
  }
 },
 "nbformat": 4,
 "nbformat_minor": 2
}
